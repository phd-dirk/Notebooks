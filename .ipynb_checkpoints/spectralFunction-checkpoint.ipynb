{
 "cells": [
  {
   "cell_type": "code",
   "execution_count": 205,
   "metadata": {
    "autoscroll": false,
    "collapsed": false,
    "ein.hycell": false,
    "ein.tags": "worksheet-0",
    "slideshow": {
     "slide_type": "-"
    }
   },
   "outputs": [],
   "source": [
    "from math import pi, modf\n",
    "from cmath import exp, log\n",
    "import json\n",
    "import matplotlib.pyplot as plt\n",
    "import numpy as np\n",
    "import scipy\n",
    "from scipy.special import zeta\n",
    "from scipy.integrate import quad, ode"
   ]
  },
  {
   "cell_type": "code",
   "execution_count": 57,
   "metadata": {
    "autoscroll": false,
    "collapsed": false,
    "ein.hycell": false,
    "ein.tags": "worksheet-0",
    "slideshow": {
     "slide_type": "-"
    }
   },
   "outputs": [],
   "source": [
    "# complex integration\n",
    "def complex_quadrature(func, a, b, **kwargs):\n",
    "    def real_func(x):\n",
    "        return scipy.real(func(x))\n",
    "    def imag_func(x):\n",
    "        return scipy.imag(func(x))\n",
    "    real_integral = quad(real_func, a, b, **kwargs)\n",
    "    imag_integral = quad(imag_func, a, b, **kwargs)\n",
    "    return (real_integral[0] + 1j*imag_integral[0], real_integral[1:], imag_integral[1:])"
   ]
  },
  {
   "cell_type": "markdown",
   "metadata": {
    "ein.tags": "worksheet-0",
    "slideshow": {
     "slide_type": "-"
    }
   },
   "source": [
    "# Plot spectral function for fitted parameters"
   ]
  },
  {
   "cell_type": "code",
   "execution_count": 14,
   "metadata": {
    "autoscroll": false,
    "collapsed": false,
    "ein.hycell": false,
    "ein.tags": "worksheet-0",
    "slideshow": {
     "slide_type": "-"
    }
   },
   "outputs": [],
   "source": [
    "with open('./alephData/alephVpA.json') as f:\n",
    "    aleph_vpa = json.load(f)['data']\n",
    "data = aleph_vpa\n",
    "name = 'V+A'"
   ]
  },
  {
   "cell_type": "code",
   "execution_count": 47,
   "metadata": {
    "autoscroll": false,
    "collapsed": false,
    "ein.hycell": false,
    "ein.tags": "worksheet-0",
    "slideshow": {
     "slide_type": "-"
    }
   },
   "outputs": [],
   "source": [
    "sTau = 1.77682**2\n",
    "BVpA = 51.116\n",
    "Be = 17.815\n",
    "Vud = 0.97425\n",
    "SEW = 1.0201\n",
    "\n",
    "def kinematicWeight(x):\n",
    "    return (1-x)**2*(1+2*x)\n",
    "\n",
    "def experimental_spectral_function(s, sfm2, ds):\n",
    "    return sTau/12/pi**2/SEW/Vud**2/Be/kinematicWeight(s/sTau)/ds*sfm2\n",
    "\n",
    "rho = list(map(lambda i: experimental_spectral_function(data['sbin'][i], data['sfm2'][i], data['dsbin'][i]), range(len(data['sbin']))))\n",
    "rhoErr = list(map(lambda i: experimental_spectral_function(data['sbin'][i], data['derr'][i], data['dsbin'][i]), range(len(data['sbin']))))"
   ]
  },
  {
   "cell_type": "markdown",
   "metadata": {
    "ein.tags": "worksheet-0",
    "slideshow": {
     "slide_type": "-"
    }
   },
   "source": [
    "## Beta-function and Adler-function coefficients"
   ]
  },
  {
   "cell_type": "code",
   "execution_count": 189,
   "metadata": {
    "autoscroll": false,
    "collapsed": false,
    "ein.hycell": false,
    "ein.tags": "worksheet-0",
    "slideshow": {
     "slide_type": "-"
    }
   },
   "outputs": [],
   "source": [
    "nf = 3\n",
    "nc = 3\n",
    "\n",
    "b = np.zeros(5)\n",
    "b[1] = 1/6*(11*nc - 2*nf)\n",
    "b[2] = 51/4 - 19/12*nf\n",
    "b[3] = 2857/64 - 5033/576*nf + 325/1728*nf**2\n",
    "b[4] = 149753/768 + 891/32*zeta(3) -(1078361/20736 + 1627/864*zeta(3))*nf + (50065/20736 + 809/1296*zeta(3))*nf**2 + 1093/93312*nf**3\n",
    "\n",
    "c = np.zeros((6,6))\n",
    "c[0][0] = -5/3; c[0][1] = 1\n",
    "c[1][1] = 1; c[1][2] = 0\n",
    "c[2][1] = 365/24 - 11*zeta(3) - (11/12 - 2/3*zeta(3))*nf\n",
    "c[2][2] = -b[1]*c[1][1]/4; c[2][3] = 0\n",
    "c[3][1] = 87029/288 - 1103/4*zeta(3) + 275/6*zeta(5) +(-7847/216 + 262/9*zeta(3) -25/9*zeta(5))*nf + (151/162 -19/27 * zeta(3))*nf**2\n",
    "c[3][2] = -1/4*(b[2]*c[1][1] + 2*b[1]*c[2][1])\n",
    "c[3][3] = b[1]**2/12*c[1][1]; c[3][4] = 0;\n",
    "c[4][1] = 78631453/20736 - 1704247/432*zeta(3) + 4185/8*zeta(3)**2 + 34165/96*zeta(5) - 1995/16*zeta(7)\n",
    "c[4][2] = -1/4*(b[3]*c[1][1]+2*b[2]*c[2][1]+3*b[1]*c[3][1]);\n",
    "c[4][3] = b[1]/24*(5*b[2]*c[1][1]+6*b[1]*c[2][1])\n",
    "c[4][4] = -b[1]**3/32*c[1][1]; c[4][5] = 0\n",
    "c[5][1] = 283\n",
    "c[5][2] = 1/4*(-b[4]*c[1][1] - 2*b[3]*c[2][1]-3*b[2]*c[3][1]-4*b[1]*c[4][1]);\n",
    "c[5][3] = 1/24*(12*c[3][1]*b[1]**2+6*b[1]*b[3]*c[1][1]+14*b[2]*b[1]*c[2][1]+3*b[2]**2*c[1][1]);\n",
    "c[5][4] = 1/96*(-12*b[1]**3*c[2][1]-13*b[2]*b[1]**2*c[1][1])\n",
    "c[5][5] = 1/80*b[1]**4*c[1][1]\n"
   ]
  },
  {
   "cell_type": "markdown",
   "metadata": {
    "ein.tags": "worksheet-0",
    "slideshow": {
     "slide_type": "-"
    }
   },
   "source": [
    "## Theoretical spectral function"
   ]
  },
  {
   "cell_type": "code",
   "execution_count": 194,
   "metadata": {
    "autoscroll": false,
    "collapsed": false,
    "ein.hycell": false,
    "ein.tags": "worksheet-0",
    "slideshow": {
     "slide_type": "-"
    }
   },
   "outputs": [],
   "source": [
    "mTau = 1776.82\n",
    "def theoretical_spectral_function(s, alpha):\n",
    "    order = 2\n",
    "    sum = 0\n",
    "    for n in range(order+1):\n",
    "        for k in range(n+1):\n",
    "            sum = sum + nc/24/pi**3*alpha**n*k*c[n][k]*complex_quadrature(\n",
    "                lambda x: log(-s*exp(-1j*x)/mTau**2)**(k-1), 0, 2*pi\n",
    "            )[0]\n",
    "    return sum\n",
    "\n",
    "# following Jamin2008, Spectral function eq. 6 and e. 8\n",
    "def theoretical_spectral_function_FOPT(s, alpha):\n",
    "    order = 3\n",
    "    sum = nc/12/pi**2\n",
    "    for n in range(order+1):\n",
    "        for l in range(int(modf(n-1/2)[1])+1):\n",
    "            sum = sum + nc/12/pi**2*alpha**n*c[n][2*l+1]*(-pi**2)**l\n",
    "\n",
    "    return sum"
   ]
  },
  {
   "cell_type": "code",
   "execution_count": 203,
   "metadata": {
    "autoscroll": false,
    "collapsed": false,
    "ein.hycell": false,
    "ein.tags": "worksheet-0",
    "slideshow": {
     "slide_type": "-"
    }
   },
   "outputs": [],
   "source": [
    "sLin = np.linspace(1, 3.08)\n",
    "th_func = list(map(lambda x: theoretical_spectral_function_FOPT(x, 0.323), sLin))"
   ]
  },
  {
   "cell_type": "code",
   "execution_count": 204,
   "metadata": {
    "autoscroll": false,
    "collapsed": false,
    "ein.hycell": false,
    "ein.tags": "worksheet-0",
    "slideshow": {
     "slide_type": "-"
    }
   },
   "outputs": [
    {
     "data": {
      "image/png": "[encoded data removed]",
      "text/plain": [
       "<Figure size 792x576 with 1 Axes>"
      ]
     },
     "metadata": {},
     "output_type": "display_data"
    }
   ],
   "source": [
    "line = plt.errorbar(aleph_vpa['sbin'][:-1], rho[:-1], color='r', yerr=rhoErr[:-1], capsize=3, fmt='o', markersize=4, label=name)\n",
    "plt.plot(sLin, scipy.real(th_func))\n",
    "# axes = plt.gca()\n",
    "#axes\n",
    "fig = plt.gcf()\n",
    "fig.set_size_inches(11,8)\n",
    "fig.patch.set_facecolor('white')\n",
    "\n",
    "\n",
    "plt.legend(handles=[line])\n",
    "plt.ylabel(r'$\\rho_{'+name+'}$(s)')\n",
    "plt.xlabel('$s(GeV^2)$')\n",
    "#plt.savefig(name+'.png', transparent=True)\n",
    "plt.show()"
   ]
  },
  {
   "cell_type": "code",
   "execution_count": 208,
   "metadata": {
    "autoscroll": false,
    "collapsed": false,
    "ein.hycell": false,
    "ein.tags": "worksheet-0",
    "slideshow": {
     "slide_type": "-"
    }
   },
   "outputs": [
    {
     "name": "stdout",
     "output_type": "stream",
     "text": [
      "1.0 [-0.71038232+0.23749653j  0.40000271+0.j        ]\n",
      "2.0 [0.19098503-0.52359246j 0.22222356+0.j        ]\n",
      "3.0 [0.47153208+0.52701229j 0.15384681+0.j        ]\n",
      "4.0 [-0.61905937+0.30726255j  0.11764744+0.j        ]\n",
      "5.0 [0.02340997-0.61418799j 0.09523835+0.j        ]\n",
      "6.0 [0.58643071+0.339819j 0.08000018+0.j      ]\n",
      "7.0 [-0.52070105+0.44525141j  0.06896565+0.j        ]\n",
      "8.0 [-0.15986733-0.61234476j  0.06060616+0.j        ]\n",
      "9.0 [0.64850462+0.15048982j 0.05405414+0.j        ]\n",
      "10.0 [-0.38404699+0.56382299j  0.04878055+0.j        ]\n"
     ]
    }
   ],
   "source": [
    "y0, t0 = [1.0j, 2.0], 0\n",
    "\n",
    "def beta_function(mu, alpha):\n",
    "    return [1j**y[0] + y[1], -arg1*y[1]**2]\n",
    "def jac(t, y, arg1):\n",
    "    return [[1j*arg1, 1], [0, -arg1*2*y[1]]]\n",
    "\n",
    "\n",
    "r = ode(f, jac).set_integrator('zvode', method='bdf', with_jacobian=True)\n",
    "r.set_initial_value(y0, t0).set_f_params(2.0).set_jac_params(2.0)\n",
    "t1 = 10\n",
    "dt = 1\n",
    "while r.successful() and r.t < t1:\n",
    "    r.integrate(r.t+dt)\n",
    "    print(r.t, r.y)"
   ]
  }
 ],
 "metadata": {
  "kernelspec": {
   "display_name": "Python (myenv)",
   "name": "myenv"
  },
  "name": "spectralFunction.ipynb"
 },
 "nbformat": 4,
 "nbformat_minor": 2
}
