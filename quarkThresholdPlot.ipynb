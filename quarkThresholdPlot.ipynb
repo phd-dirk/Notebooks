{
 "cells": [
  {
   "cell_type": "code",
   "execution_count": 23,
   "metadata": {
    "autoscroll": false,
    "collapsed": false,
    "ein.hycell": false,
    "ein.tags": "worksheet-0",
    "slideshow": {
     "slide_type": "-"
    }
   },
   "outputs": [],
   "source": [
    "import matplotlib.pyplot as plt\n",
    "import rundec\n",
    "import numpy as np\n",
    "crd = rundec.CRunDec()"
   ]
  },
  {
   "cell_type": "code",
   "execution_count": 58,
   "metadata": {
    "autoscroll": false,
    "collapsed": false,
    "ein.hycell": false,
    "ein.tags": "worksheet-0",
    "slideshow": {
     "slide_type": "-"
    }
   },
   "outputs": [],
   "source": [
    "as3Tau = 0.332\n",
    "mTau = 1.77686\n",
    "n = 5\n",
    "mC = 1.5\n",
    "mB = 4.8\n",
    "mZ = 91.1876\n",
    "\n",
    "as3c = crd.AlphasExact(as3Tau,mTau,mC,3,n)\n",
    "as4c = crd.DecAsUpSI(as3c,mC,mC,3,n)\n",
    "as4b = crd.AlphasExact(as3c,mC,mB,4,n)\n",
    "as5b = crd.DecAsUpSI(as4b,mB,mB,4,n)\n",
    "as5mz = crd.AlphasExact(as5b,mB,mZ,5,n)"
   ]
  },
  {
   "cell_type": "code",
   "execution_count": 59,
   "metadata": {
    "autoscroll": false,
    "collapsed": false,
    "ein.hycell": false,
    "ein.tags": "worksheet-0",
    "slideshow": {
     "slide_type": "-"
    }
   },
   "outputs": [
    {
     "data": {
      "text/plain": [
       "[<matplotlib.lines.Line2D at 0x11b7790f0>,\n <matplotlib.lines.Line2D at 0x11b779240>,\n <matplotlib.lines.Line2D at 0x11b779588>]"
      ]
     },
     "execution_count": 59,
     "metadata": {},
     "output_type": "execute_result"
    },
    {
     "data": {
      "image/png": "[encoded data removed]",
      "text/plain": [
       "<Figure size 432x288 with 1 Axes>"
      ]
     },
     "metadata": {},
     "output_type": "display_data"
    }
   ],
   "source": [
    "xsc = np.linspace(mTau,mC)\n",
    "xcb = np.linspace(mC+0.01,mB)\n",
    "xbz = np.linspace(mB+0.01,mZ)\n",
    "\n",
    "ysc = list(map(\n",
    "    lambda x:\n",
    "    crd.AlphasExact(as3Tau,mTau,x,3,n)\n",
    "    , xsc))\n",
    "ycb = list(map(\n",
    "    lambda x:\n",
    "    crd.AlphasExact(as4c,mC,x,4,n)\n",
    "    , xcb))\n",
    "ybz = list(map(\n",
    "    lambda x:\n",
    "    crd.AlphasExact(as5b,mB,x,4,n)\n",
    "    , xbz))\n",
    "\n",
    "plt.plot(xsc,ysc, xcb, ycb, xbz, ybz)"
   ]
  }
 ],
 "metadata": {
  "kernelspec": {
   "display_name": "Python (myenv)",
   "name": "myenv"
  },
  "name": "quarkThresholdPlot.ipynb"
 },
 "nbformat": 4,
 "nbformat_minor": 2
}
