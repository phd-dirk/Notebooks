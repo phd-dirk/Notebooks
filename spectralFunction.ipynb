{
 "cells": [
  {
   "cell_type": "code",
   "execution_count": 252,
   "metadata": {
    "autoscroll": false,
    "collapsed": false,
    "ein.hycell": false,
    "ein.tags": "worksheet-0",
    "slideshow": {
     "slide_type": "-"
    }
   },
   "outputs": [],
   "source": [
    "import rundec\n",
    "from math import pi, modf, sqrt\n",
    "from cmath import exp, log\n",
    "import json\n",
    "import matplotlib.pyplot as plt\n",
    "import numpy as np\n",
    "import scipy\n",
    "from scipy.special import zeta\n",
    "from scipy.integrate import quad, odeint\n",
    "crd = rundec.CRunDec()"
   ]
  },
  {
   "cell_type": "code",
   "execution_count": 26,
   "metadata": {
    "autoscroll": false,
    "collapsed": false,
    "ein.hycell": false,
    "ein.tags": "worksheet-0",
    "slideshow": {
     "slide_type": "-"
    }
   },
   "outputs": [],
   "source": [
    "# complex integration\n",
    "def complex_quadrature(func, a, b, **kwargs):\n",
    "    def real_func(x):\n",
    "        return scipy.real(func(x))\n",
    "    def imag_func(x):\n",
    "        return scipy.imag(func(x))\n",
    "    real_integral = quad(real_func, a, b, **kwargs)\n",
    "    imag_integral = quad(imag_func, a, b, **kwargs)\n",
    "    return (real_integral[0] + 1j*imag_integral[0], real_integral[1:], imag_integral[1:])"
   ]
  },
  {
   "cell_type": "markdown",
   "metadata": {
    "ein.tags": "worksheet-0",
    "slideshow": {
     "slide_type": "-"
    }
   },
   "source": [
    "# Plot spectral function for fitted parameters"
   ]
  },
  {
   "cell_type": "code",
   "execution_count": 238,
   "metadata": {
    "autoscroll": false,
    "collapsed": false,
    "ein.hycell": false,
    "ein.tags": "worksheet-0",
    "slideshow": {
     "slide_type": "-"
    }
   },
   "outputs": [],
   "source": [
    "with open('./alephData/alephVpA.json') as f:\n",
    "    aleph_vpa = json.load(f)['data']\n",
    "data = aleph_vpa\n",
    "name = 'V+A'\n",
    "alpha = 0.3232 #see fitting table in thesis for wKin (best Chi2)"
   ]
  },
  {
   "cell_type": "code",
   "execution_count": 28,
   "metadata": {
    "autoscroll": false,
    "collapsed": false,
    "ein.hycell": false,
    "ein.tags": "worksheet-0",
    "slideshow": {
     "slide_type": "-"
    }
   },
   "outputs": [],
   "source": [
    "sTau = 1.77682**2\n",
    "BVpA = 51.116\n",
    "Be = 17.815\n",
    "Vud = 0.97425\n",
    "SEW = 1.0201\n",
    "\n",
    "def kinematicWeight(x):\n",
    "    return (1-x)**2*(1+2*x)\n",
    "\n",
    "def experimental_spectral_function(s, sfm2, ds):\n",
    "    return sTau/12/pi**2/SEW/Vud**2/Be/kinematicWeight(s/sTau)/ds*sfm2\n",
    "\n",
    "rho = list(map(lambda i: experimental_spectral_function(data['sbin'][i], data['sfm2'][i], data['dsbin'][i]), range(len(data['sbin']))))\n",
    "rhoErr = list(map(lambda i: experimental_spectral_function(data['sbin'][i], data['derr'][i], data['dsbin'][i]), range(len(data['sbin']))))"
   ]
  },
  {
   "cell_type": "markdown",
   "metadata": {
    "ein.tags": "worksheet-0",
    "slideshow": {
     "slide_type": "-"
    }
   },
   "source": [
    "## Beta-function and Adler-function coefficients"
   ]
  },
  {
   "cell_type": "code",
   "execution_count": 202,
   "metadata": {
    "autoscroll": false,
    "collapsed": false,
    "ein.hycell": false,
    "ein.tags": "worksheet-0",
    "slideshow": {
     "slide_type": "-"
    }
   },
   "outputs": [
    {
     "name": "stdout",
     "output_type": "stream",
     "text": [
      "-1.6666666666666667\n"
     ]
    }
   ],
   "source": [
    "nf = 3\n",
    "nc = 3\n",
    "\n",
    "b = np.zeros(5)\n",
    "b[1] = 1/6*(11*nc - 2*nf)\n",
    "b[2] = 51/4 - 19/12*nf\n",
    "b[3] = 2857/64 - 5033/576*nf + 325/1728*nf**2\n",
    "b[4] = 149753/768 + 891/32*zeta(3) -(1078361/20736 + 1627/864*zeta(3))*nf + (50065/20736 + 809/1296*zeta(3))*nf**2 + 1093/93312*nf**3\n",
    "\n",
    "c = np.zeros((6,6))\n",
    "c[0][0] = -5/3; c[0][1] = 1\n",
    "c[1][1] = 1; c[1][2] = 0\n",
    "c[2][1] = 365/24 - 11*zeta(3) - (11/12 - 2/3*zeta(3))*nf\n",
    "c[2][2] = -b[1]*c[1][1]/4; c[2][3] = 0\n",
    "c[3][1] = 87029/288 - 1103/4*zeta(3) + 275/6*zeta(5) +(-7847/216 + 262/9*zeta(3) -25/9*zeta(5))*nf + (151/162 -19/27 * zeta(3))*nf**2\n",
    "c[3][2] = -1/4*(b[2]*c[1][1] + 2*b[1]*c[2][1])\n",
    "c[3][3] = b[1]**2/12*c[1][1]; c[3][4] = 0;\n",
    "c[4][1] = 78631453/20736 - 1704247/432*zeta(3) + 4185/8*zeta(3)**2 + 34165/96*zeta(5) - 1995/16*zeta(7)\n",
    "c[4][2] = -1/4*(b[3]*c[1][1]+2*b[2]*c[2][1]+3*b[1]*c[3][1]);\n",
    "c[4][3] = b[1]/24*(5*b[2]*c[1][1]+6*b[1]*c[2][1])\n",
    "c[4][4] = -b[1]**3/32*c[1][1]; c[4][5] = 0\n",
    "c[5][1] = 283\n",
    "c[5][2] = 1/4*(-b[4]*c[1][1] - 2*b[3]*c[2][1]-3*b[2]*c[3][1]-4*b[1]*c[4][1]);\n",
    "c[5][3] = 1/24*(12*c[3][1]*b[1]**2+6*b[1]*b[3]*c[1][1]+14*b[2]*b[1]*c[2][1]+3*b[2]**2*c[1][1]);\n",
    "c[5][4] = 1/96*(-12*b[1]**3*c[2][1]-13*b[2]*b[1]**2*c[1][1])\n",
    "c[5][5] = 1/80*b[1]**4*c[1][1]\n",
    "print(c[0][0])"
   ]
  },
  {
   "cell_type": "markdown",
   "metadata": {
    "ein.tags": "worksheet-0",
    "slideshow": {
     "slide_type": "-"
    }
   },
   "source": [
    "## Theoretical spectral function"
   ]
  },
  {
   "cell_type": "code",
   "execution_count": 261,
   "metadata": {
    "autoscroll": false,
    "collapsed": false,
    "ein.hycell": false,
    "ein.tags": "worksheet-0",
    "slideshow": {
     "slide_type": "-"
    }
   },
   "outputs": [],
   "source": [
    "mTau = 1776.82\n",
    "def theoretical_spectral_function(s, alpha):\n",
    "    order = 1\n",
    "    sum = 0\n",
    "    for n in range(order+1):\n",
    "        for k in range(n+1):\n",
    "            sum = sum + nc/24/pi**3*alpha**n*k*c[n][k]*complex_quadrature(\n",
    "                lambda x: log(-s*exp(-1j*x)/mTau**2)**(k-1), 0, 2*pi\n",
    "            )[0]\n",
    "    return sum\n",
    "\n",
    "# following Jamin2008, Spectral function eq. 6 and e. 8\n",
    "def theoretical_spectral_function_FOPT(s, alpha):\n",
    "    order = 3\n",
    "    sum = 0\n",
    "    for n in range(order+1):\n",
    "        for l in range(int(modf(n-1/2)[1])+1):\n",
    "            sum = sum + (crd.AlphasExact(alpha, sTau, s, 3, 3)/pi)**n*c[n][2*l+1]*(-pi**2)**l\n",
    "\n",
    "    return nc/12/pi**2*(1 + sum)"
   ]
  },
  {
   "cell_type": "code",
   "execution_count": 263,
   "metadata": {
    "autoscroll": false,
    "collapsed": false,
    "ein.hycell": false,
    "ein.tags": "worksheet-0",
    "slideshow": {
     "slide_type": "-"
    }
   },
   "outputs": [],
   "source": [
    "sLin = np.linspace(1, 3.08, 100)\n",
    "th_func = list(map(lambda x: theoretical_spectral_function_FOPT(x, alpha), sLin))"
   ]
  },
  {
   "cell_type": "code",
   "execution_count": 264,
   "metadata": {
    "autoscroll": false,
    "collapsed": false,
    "ein.hycell": false,
    "ein.tags": "worksheet-0",
    "slideshow": {
     "slide_type": "-"
    }
   },
   "outputs": [
    {
     "data": {
      "image/png": "[encoded data removed]",
      "text/plain": [
       "<Figure size 792x576 with 1 Axes>"
      ]
     },
     "metadata": {},
     "output_type": "display_data"
    }
   ],
   "source": [
    "line = plt.errorbar(aleph_vpa['sbin'][:-1], rho[:-1], color='r', yerr=rhoErr[:-1], capsize=3, fmt='o', markersize=4, label=name)\n",
    "plt.plot(sLin, scipy.real(th_func), label='Fit')\n",
    "# axes = plt.gca()\n",
    "#axes\n",
    "fig = plt.gcf()\n",
    "fig.set_size_inches(11,8)\n",
    "fig.patch.set_facecolor('white')\n",
    "plt.ylim(bottom=0)\n",
    "\n",
    "\n",
    "plt.legend()\n",
    "plt.ylabel(r'$\\rho_{'+name+'}$(s)')\n",
    "plt.xlabel('$s(GeV^2)$')\n",
    "#plt.savefig(name+'.png', transparent=True)\n",
    "plt.savefig('fitWKinAlD6D8SpecFunc.png',format='png')"
   ]
  },
  {
   "cell_type": "code",
   "execution_count": 103,
   "metadata": {
    "autoscroll": false,
    "collapsed": false,
    "ein.hycell": false,
    "ein.tags": "worksheet-0",
    "slideshow": {
     "slide_type": "-"
    }
   },
   "outputs": [],
   "source": [
    "def beta_function(a):\n",
    "    return b[1]*a**2 + b[2]*a**3 + b[3]*a**4 + b[4]*a**5"
   ]
  },
  {
   "cell_type": "code",
   "execution_count": 260,
   "metadata": {
    "autoscroll": false,
    "collapsed": false,
    "ein.hycell": false,
    "ein.tags": "worksheet-0",
    "slideshow": {
     "slide_type": "-"
    }
   },
   "outputs": [
    {
     "name": "stdout",
     "output_type": "stream",
     "text": [
      "0.4850395671988739\n"
     ]
    },
    {
     "data": {
      "text/plain": [
       "[<matplotlib.lines.Line2D at 0x15181a49b0>]"
      ]
     },
     "execution_count": 260,
     "metadata": {},
     "output_type": "execute_result"
    },
    {
     "data": {
      "image/png": "[encoded data removed]",
      "text/plain": [
       "<Figure size 432x288 with 1 Axes>"
      ]
     },
     "metadata": {},
     "output_type": "display_data"
    }
   ],
   "source": [
    "print(crd.AlphasExact(0.319, sTau, 1, 3, 3)/pi)\n",
    "xLin = np.linspace(1, 3)\n",
    "y = list(map(lambda x: crd.AlphasExact(0.323, sTau, x, 3, 3)/pi, xLin))\n",
    "plt.plot(xLin, y)"
   ]
  }
 ],
 "metadata": {
  "kernelspec": {
   "display_name": "Python (myenv)",
   "name": "myenv"
  },
  "name": "spectralFunction.ipynb"
 },
 "nbformat": 4,
 "nbformat_minor": 2
}
