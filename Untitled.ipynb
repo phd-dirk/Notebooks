{
 "cells": [
  {
   "cell_type": "code",
   "execution_count": 9,
   "metadata": {
    "autoscroll": false,
    "collapsed": false,
    "ein.hycell": false,
    "ein.tags": "worksheet-0",
    "slideshow": {
     "slide_type": "-"
    }
   },
   "outputs": [],
   "source": [
    "import numpy as np\n",
    "import math"
   ]
  },
  {
   "cell_type": "code",
   "execution_count": 18,
   "metadata": {
    "autoscroll": false,
    "collapsed": false,
    "ein.hycell": false,
    "ein.tags": "worksheet-0",
    "slideshow": {
     "slide_type": "-"
    }
   },
   "outputs": [
    {
     "name": "stdout",
     "output_type": "stream",
     "text": [
      "mean 102.686\n",
      "std 0.023021728866438714 0.023021728866438714\n",
      "standard error 0.010295630140985227\n"
     ]
    }
   ],
   "source": [
    "val = [102.7,102.71,102.65,102.68,102.69]\n",
    "\n",
    "def std(vec, mean):\n",
    "    sum = 0\n",
    "    for v in vec:\n",
    "        sum += (v - mean)**2\n",
    "    return math.sqrt(sum/(len(vec)-1))\n",
    "\n",
    "\n",
    "print('mean',np.mean(val))\n",
    "print('std',np.std(val,ddof=1),std(val,np.mean(val)))\n",
    "print('standard error',np.std(val,ddof=1)/math.sqrt(len(val)))"
   ]
  },
  {
   "cell_type": "code",
   "execution_count": null,
   "metadata": {
    "autoscroll": false,
    "collapsed": false,
    "ein.hycell": false,
    "ein.tags": "worksheet-0",
    "slideshow": {
     "slide_type": "-"
    }
   },
   "outputs": [],
   "source": []
  }
 ],
 "metadata": {
  "kernelspec": {
   "display_name": "Python (myenv)",
   "name": "myenv"
  },
  "name": "Untitled.ipynb"
 },
 "nbformat": 4,
 "nbformat_minor": 2
}
