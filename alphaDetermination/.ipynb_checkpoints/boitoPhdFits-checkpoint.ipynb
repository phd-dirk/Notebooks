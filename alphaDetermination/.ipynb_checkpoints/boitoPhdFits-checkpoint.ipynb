{
 "cells": [
  {
   "cell_type": "code",
   "execution_count": 2,
   "metadata": {
    "autoscroll": false,
    "collapsed": false,
    "ein.hycell": false,
    "ein.tags": "worksheet-0",
    "slideshow": {
     "slide_type": "-"
    }
   },
   "outputs": [],
   "source": [
    "import numpy as np"
   ]
  },
  {
   "cell_type": "markdown",
   "metadata": {
    "ein.tags": "worksheet-0",
    "slideshow": {
     "slide_type": "-"
    }
   },
   "source": [
    "# Boito PhD Fits\n",
    "## $\\omega(x) = 1$"
   ]
  },
  {
   "cell_type": "code",
   "execution_count": 22,
   "metadata": {
    "autoscroll": false,
    "collapsed": false,
    "ein.hycell": false,
    "ein.tags": "worksheet-0",
    "slideshow": {
     "slide_type": "-"
    }
   },
   "outputs": [
    {
     "name": "stdout",
     "output_type": "stream",
     "text": [
      "Chi2:  0.13335841481856428 \n",
      "Alpha:  0.006020373573058713 \n",
      "Kappa:  0.008827138117585948 \n",
      "Gamma:  0.21373261953445763\n"
     ]
    }
   ],
   "source": [
    "chi2 = [29.6/62, 28.3/59, 27.6/56, 23.2/53, 17.6/50, 16.8/47, 16.3/43]\n",
    "chi2 = chi2/np.average(chi2)\n",
    "alpha = [0.326, 0.322, 0.323, 0.323, 0.313, 0.310, 0.312]\n",
    "kappa = [0.032, 0.038, 0.04, 0.025, 0.018, 0.016, 0.022]\n",
    "gamma = [0.6, 0.69, .73, 0.41, 0.22, 0.15, 0.32]\n",
    "print(\n",
    "    'Chi2: ', np.std(chi2),\n",
    "    '\\nAlpha: ', np.std(alpha),\n",
    "    '\\nKappa: ', np.std(kappa),\n",
    "    '\\nGamma: ', np.std(gamma)\n",
    ")"
   ]
  },
  {
   "cell_type": "markdown",
   "metadata": {
    "ein.tags": "worksheet-0",
    "slideshow": {
     "slide_type": "-"
    }
   },
   "source": [
    "## $w(x) = 1 -x$"
   ]
  },
  {
   "cell_type": "code",
   "execution_count": 21,
   "metadata": {
    "autoscroll": false,
    "collapsed": false,
    "ein.hycell": false,
    "ein.tags": "worksheet-0",
    "slideshow": {
     "slide_type": "-"
    }
   },
   "outputs": [
    {
     "name": "stdout",
     "output_type": "stream",
     "text": [
      "Chi2:  0.6121224367322442 \n",
      "Alpha:  0.005878775382679633 \n",
      "Kappa:  0.01326046756340062 \n",
      "Gamma:  0.17204650534085256\n"
     ]
    }
   ],
   "source": [
    "chi2 = [0.01, 0.016, 0.027, 0.052]\n",
    "chi2 = chi2/np.average(chi2)\n",
    "alpha = [0.329, 0.321, 0.315, 0.312, 0.317]\n",
    "kappa = [0.053, 0.038, 0.030, 0.016, 0.020]\n",
    "gamma = [0.8, 0.6, 0.5, 0.3, 0.4]\n",
    "print(\n",
    "    'Chi2: ', np.std(chi2),\n",
    "    '\\nAlpha: ', np.std(alpha),\n",
    "    '\\nKappa: ', np.std(kappa),\n",
    "    '\\nGamma: ', np.std(gamma)\n",
    ")\n"
   ]
  },
  {
   "cell_type": "markdown",
   "metadata": {
    "ein.tags": "worksheet-0",
    "slideshow": {
     "slide_type": "-"
    }
   },
   "source": [
    "Standard deviation of normalized chi2 in w(x)=1-x is larger than the one in w(x)=1, which implies that the w(x)=1 fits are more stable."
   ]
  }
 ],
 "metadata": {
  "kernelspec": {
   "display_name": "Python (myenv)",
   "name": "myenv"
  },
  "name": "Untitled.ipynb"
 },
 "nbformat": 4,
 "nbformat_minor": 2
}
