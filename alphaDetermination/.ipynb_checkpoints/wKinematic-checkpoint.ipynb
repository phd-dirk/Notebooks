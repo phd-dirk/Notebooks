{
 "cells": [
  {
   "cell_type": "code",
   "execution_count": 1,
   "metadata": {
    "autoscroll": false,
    "collapsed": false,
    "ein.hycell": false,
    "ein.tags": "worksheet-0",
    "slideshow": {
     "slide_type": "-"
    }
   },
   "outputs": [],
   "source": [
    "# import sys\n",
    "# del sys.modules['phd_helper']\n",
    "import math\n",
    "from phd_helper import *"
   ]
  },
  {
   "cell_type": "markdown",
   "metadata": {
    "ein.tags": "worksheet-0",
    "slideshow": {
     "slide_type": "-"
    }
   },
   "source": [
    "# Load Data"
   ]
  },
  {
   "cell_type": "code",
   "execution_count": 2,
   "metadata": {
    "autoscroll": false,
    "collapsed": false,
    "ein.hycell": false,
    "ein.tags": "worksheet-0",
    "slideshow": {
     "slide_type": "-"
    }
   },
   "outputs": [],
   "source": [
    "kinD6D8 = read_csv('../../FESR/configurations/2019/wKinematicD6D8/fits.csv')\n",
    "kinAlD6D8 = read_csv('../../FESR/configurations/2019/wKinematicAlphaD6D8/fits.csv')\n",
    "selected_rows = kinAlD6D8.iloc[13:17]\n",
    "fiveToSeven_rows = kinAlD6D8.iloc[16:19]\n",
    "eightToTen_rows = kinAlD6D8.iloc[13:16]\n",
    "# kinAlD6D8[['alpha', 'alphaErr', 'c6', 'c6Err', 'c8', 'c8Err', 'chiDof']]\n",
    "# dfToLatexTable(kinAlD6D8,['alpha','c6','c8'])\n"
   ]
  },
  {
   "cell_type": "markdown",
   "metadata": {
    "ein.tags": "worksheet-0",
    "slideshow": {
     "slide_type": "-"
    }
   },
   "source": [
    "## check consistensy"
   ]
  },
  {
   "cell_type": "code",
   "execution_count": 102,
   "metadata": {
    "autoscroll": false,
    "collapsed": false,
    "ein.hycell": false,
    "ein.tags": "worksheet-0",
    "slideshow": {
     "slide_type": "-"
    }
   },
   "outputs": [
    {
     "name": "stdout",
     "output_type": "stream",
     "text": [
      "Values within error boundaries?\n",
      "Index(['smin1950', 'smin2000', 'smin2100', 'smin2200'], dtype='object')\n",
      "alpha [True, True, True, False]\n",
      "c6 [True, True, True, False]\n",
      "c8 [True, True, True, False]\n",
      "OPE convergent?\n"
     ]
    },
    {
     "ename": "TypeError",
     "evalue": "has_df_convergent_OPE() missing 1 required positional argument: 'dimensions'",
     "output_type": "error",
     "traceback": [
      "\u001b[0;31m\u001b[0m",
      "\u001b[0;31mTypeError\u001b[0mTraceback (most recent call last)",
      "\u001b[0;32m<ipython-input-102-526bcde67c53>\u001b[0m in \u001b[0;36m<module>\u001b[0;34m()\u001b[0m\n\u001b[1;32m      5\u001b[0m \u001b[0mprint\u001b[0m\u001b[0;34m(\u001b[0m\u001b[0;34m'c8'\u001b[0m\u001b[0;34m,\u001b[0m \u001b[0misVarWithinErrBoundaries\u001b[0m\u001b[0;34m(\u001b[0m\u001b[0mselected_rows\u001b[0m\u001b[0;34m,\u001b[0m \u001b[0;34m'c8'\u001b[0m\u001b[0;34m)\u001b[0m\u001b[0;34m)\u001b[0m\u001b[0;34m\u001b[0m\u001b[0;34m\u001b[0m\u001b[0m\n\u001b[1;32m      6\u001b[0m \u001b[0mprint\u001b[0m\u001b[0;34m(\u001b[0m\u001b[0;34m'OPE convergent?'\u001b[0m\u001b[0;34m)\u001b[0m\u001b[0;34m\u001b[0m\u001b[0;34m\u001b[0m\u001b[0m\n\u001b[0;32m----> 7\u001b[0;31m \u001b[0mprint\u001b[0m\u001b[0;34m(\u001b[0m\u001b[0mhas_df_convergent_OPE\u001b[0m\u001b[0;34m(\u001b[0m\u001b[0mselected_rows\u001b[0m\u001b[0;34m)\u001b[0m\u001b[0;34m)\u001b[0m\u001b[0;34m\u001b[0m\u001b[0;34m\u001b[0m\u001b[0m\n\u001b[0m",
      "\u001b[0;31mTypeError\u001b[0m: has_df_convergent_OPE() missing 1 required positional argument: 'dimensions'"
     ]
    }
   ],
   "source": [
    "print('Values within error boundaries?')\n",
    "print(selected_rows.index)\n",
    "print('alpha', isVarWithinErrBoundaries(selected_rows, 'alpha'))\n",
    "print('c6', isVarWithinErrBoundaries(selected_rows, 'c6'))\n",
    "print('c8', isVarWithinErrBoundaries(selected_rows, 'c8'))\n",
    "print('OPE convergent?')\n",
    "print(has_df_convergent_OPE(selected_rows))"
   ]
  },
  {
   "cell_type": "markdown",
   "metadata": {
    "ein.tags": "worksheet-0",
    "slideshow": {
     "slide_type": "-"
    }
   },
   "source": [
    "## final results"
   ]
  },
  {
   "cell_type": "code",
   "execution_count": 26,
   "metadata": {
    "autoscroll": false,
    "collapsed": false,
    "ein.hycell": false,
    "ein.tags": "worksheet-0",
    "slideshow": {
     "slide_type": "-"
    }
   },
   "outputs": [],
   "source": [
    "def error_prop(arr):\n",
    "    sum = 0\n",
    "    for a in arr:\n",
    "        sum += a**2\n",
    "    return math.sqrt(sum)/len(arr)\n"
   ]
  },
  {
   "cell_type": "code",
   "execution_count": 38,
   "metadata": {
    "autoscroll": false,
    "collapsed": false,
    "ein.hycell": false,
    "ein.tags": "worksheet-0",
    "slideshow": {
     "slide_type": "-"
    }
   },
   "outputs": [
    {
     "name": "stdout",
     "output_type": "stream",
     "text": [
      "5-7:\n",
      "alpha-mean: 0.33170237649543804\n",
      "alpha-error: 0.003263502130491596\n",
      "c6-mean: -0.7703636931229995\n",
      "c6-error: 0.16755163404836282\n",
      "c8-mean: -0.9777762975988858\n",
      "c8-error: 0.348274810564893 \n",
      "\n",
      "8-10:\n",
      "alpha-mean: 0.324060525613361\n",
      "alpha-error: 0.0020100794331390152\n",
      "c6-mean: -0.350372745950857\n",
      "c6-error: 0.07500906628887775\n",
      "c8-mean: -0.09517722936198891\n",
      "c8-error: 0.1310243474870159 \n",
      "\n",
      "selected:\n",
      "alpha: 0.3257499991273003 0.003711405237352475\n",
      "c6: -0.4415386731344405 0.1462185596183205\n",
      "c8: -0.28375873203475865 0.262003183756592\n"
     ]
    }
   ],
   "source": [
    "# 5-7 moments\n",
    "print('5-7:')\n",
    "print('alpha-mean:',fiveToSeven_rows['alpha'].mean())\n",
    "print('alpha-error:',error_prop(fiveToSeven_rows['alphaErr']))\n",
    "print('c6-mean:',fiveToSeven_rows['c6'].mean())\n",
    "print('c6-error:',error_prop(fiveToSeven_rows['c6Err']))\n",
    "print('c8-mean:',fiveToSeven_rows['c8'].mean())\n",
    "print('c8-error:',error_prop(fiveToSeven_rows['c8Err']), '\\n')\n",
    "print('8-10:')\n",
    "print('alpha-mean:',eightToTen_rows['alpha'].mean())\n",
    "print('alpha-error:',error_prop(eightToTen_rows['alphaErr']))\n",
    "print('c6-mean:',eightToTen_rows['c6'].mean())\n",
    "print('c6-error:',error_prop(eightToTen_rows['c6Err']))\n",
    "print('c8-mean:',eightToTen_rows['c8'].mean())\n",
    "print('c8-error:',error_prop(eightToTen_rows['c8Err']), '\\n')\n",
    "print('selected:')\n",
    "print('alpha:', selected_rows['alpha'].mean(), selected_rows['alphaErr'].mean())\n",
    "print('c6:', selected_rows['c6'].mean(), selected_rows['c6Err'].mean())\n",
    "print('c8:', selected_rows['c8'].mean(), selected_rows['c8Err'].mean())"
   ]
  },
  {
   "cell_type": "markdown",
   "metadata": {
    "ein.tags": "worksheet-0",
    "slideshow": {
     "slide_type": "-"
    }
   },
   "source": [
    "## Plots with free Alpha"
   ]
  },
  {
   "cell_type": "code",
   "execution_count": 6,
   "metadata": {
    "autoscroll": false,
    "collapsed": false,
    "ein.hycell": false,
    "ein.tags": "worksheet-0",
    "slideshow": {
     "slide_type": "-"
    }
   },
   "outputs": [
    {
     "data": {
      "image/png": "[encoded data removed]",
      "text/plain": [
       "<Figure size 1512x504 with 4 Axes>"
      ]
     },
     "metadata": {},
     "output_type": "display_data"
    }
   ],
   "source": [
    "fig, (axes) = plt.subplots(1, 2, figsize=(21, 7))\n",
    "fig.suptitle(r'Fit of $\\omega_\\tau$ with free $\\alpha_s, D6$ and $D8$ using FOPT.')\n",
    "addAx(axes, 0, ['alpha'], kinAlD6D8, ylabel=r'$\\alpha_s$', xlabel=r'number of fitted moments/ $s_0$s')\n",
    "addAx(axes, 1, ['c6', 'c8'], kinAlD6D8, ylabel=r'$\\rho^{(6)}, \\rho^{(8)}$', xlabel=r'number of fitted moments/ $s_0$s')\n",
    "\n",
    "fig.savefig('./plots/wKinematicAlpha.png', dpi=300)\n",
    "plt.show()"
   ]
  },
  {
   "cell_type": "code",
   "execution_count": 27,
   "metadata": {
    "autoscroll": false,
    "collapsed": false,
    "ein.hycell": false,
    "ein.tags": "worksheet-0",
    "slideshow": {
     "slide_type": "-"
    }
   },
   "outputs": [
    {
     "name": "stdout",
     "output_type": "stream",
     "text": [
      "$\\sigma_\\alpha$:  0.0036521295421697887\n",
      "Average relative error of $\\alpha_s$:  0.01\n"
     ]
    }
   ],
   "source": [
    "print(r'$\\sigma_\\alpha$: ', round(np.std(kinAlD6D8['alpha'])))\n",
    "print(r'Average relative error of $\\alpha_s$: ', round(np.average(kinAlD6D8['alphaErr'])/np.average(kinAlD6D8['alpha']), 2))\n"
   ]
  },
  {
   "cell_type": "markdown",
   "metadata": {
    "ein.tags": "worksheet-0",
    "slideshow": {
     "slide_type": "-"
    }
   },
   "source": [
    "In the plots we can see the result of fitting $\\alpha_s(m_\\tau), c_6$ and $c_8$ using $\\omega_\\tau$ in FOPT for 3- to 23 $s_0$-moments (the lowest $s_0$ moment is given by $s_{min} = 1.5GeV^2$). The best value (with a $\\chi^2/dof = 1.12$) yields $\\alpha_s(m_\\tau) = 0.3231(32)$ with $c6 = -0.30(11)$ and $c8 = 0.00(18)$ for $s_{min}=1.925$ ($10  s_0s$-moments).\n",
    "$\\alpha_s$ varies wave-like for inreasing $s_0$-moments within error ranges and converges around $\\alpha_s \\approx 0.325$. With an increasing number of $s_0s$-moments the error decrease, but $\\chi^2/dof$ increases. The error of $\\alpha_s$ is smallest for the biggest $s_0s$-moment number and would decrease for more $s_0s$-moments.\n",
    "For $c_6$ and $c_8$ we see an inverted wave-like behavior, meaning that their values first increases, then slightly decrease until they converge for a value around $c_6 \\approx -0.4$ and $c_8 = -0.3$. This inverted behavior shows that if we increase the $\\alpha_s$ contribution to our integral-moment the other contributions, $c_6$ and $c_8$, have to decrease. The values of $c_6$ and $c_8$ vary also within error ranges, which \"vanish\" for heigher $s_0s$-moment numbers.\n",
    "We also plotted the $\\chi^2/dof$ function as gray line in the background of the plots. Their values can be read off the right y-axis. One notices three plateaus: The first one for $3-6$ $s_0s$-moments with a $\\chi^2/dof \\approx 0$ the second one for $7-10$ $s_0s$-moments with a good $\\chi^2/dof \\approx 1.3$ and another for $11-23 s_0s$-moments with a to big value of $\\chi^2/dof > 2$, which tells us that  $7-10$ is a good choice for the number of fitted moments.\n",
    "Due to the previous discussion we see that the fit results are solid, with an $\\alpha_s(m_\\tau) = 0.3231(32)$. Problematic are the heigher values for $\\alpha_s$ for lower $s_{min}$ or more $s_0s$ moments. The values of $\\alpha_s$ are 2% heigher in the 2nd $\\chi^2$ plateau."
   ]
  },
  {
   "cell_type": "markdown",
   "metadata": {
    "ein.tags": "worksheet-0",
    "slideshow": {
     "slide_type": "-"
    }
   },
   "source": [
    "### Correlation of $c_6$ and $c_8$"
   ]
  },
  {
   "cell_type": "code",
   "execution_count": 29,
   "metadata": {
    "autoscroll": false,
    "collapsed": false,
    "ein.hycell": false,
    "ein.tags": "worksheet-0",
    "slideshow": {
     "slide_type": "-"
    }
   },
   "outputs": [
    {
     "name": "stdout",
     "output_type": "stream",
     "text": [
      "Pearsons r for $\\alpha_s-c_8 =$:  -0.9914086952783082\n",
      "Pearsons r for $c_6-c_8 =$:  0.995920629934654\n"
     ]
    }
   ],
   "source": [
    "rAlphaC8, _ = stats.pearsonr(kinAlD6D8['alpha'], kinAlD6D8['c6'])\n",
    "rC6C8, _ = stats.pearsonr(kinAlD6D8['c6'], kinAlD6D8['c8'])\n",
    "print(r'Pearsons r for $\\alpha_s-c_8 =$: ', rAlphaC8)\n",
    "print(r'Pearsons r for $c_6-c_8 =$: ', rC6C8)"
   ]
  },
  {
   "cell_type": "markdown",
   "metadata": {
    "ein.tags": "worksheet-0",
    "slideshow": {
     "slide_type": "-"
    }
   },
   "source": [
    "We test the correlation of $\\alpha_s$ with $c_8$ and $c_6$ with $c_8$ with the help of \\textit{Pearsons r}. The former yields a value of $r_{\\alpha_s, c_6} = -0.99$, which suggest a strongly antiproportional behavior, whereas the latter $r_{c_6, c_8} \\approx 1$ advocates perfect propotionality. The pearson squares explain the inverted wave-like behavior we have seen before."
   ]
  },
  {
   "cell_type": "markdown",
   "metadata": {
    "ein.tags": "worksheet-0",
    "slideshow": {
     "slide_type": "-"
    }
   },
   "source": [
    "### Test for OPE series convergence"
   ]
  },
  {
   "cell_type": "code",
   "execution_count": 56,
   "metadata": {
    "autoscroll": false,
    "collapsed": false,
    "ein.hycell": false,
    "ein.tags": "worksheet-0",
    "slideshow": {
     "slide_type": "-"
    }
   },
   "outputs": [
    {
     "data": {
      "text/plain": [
       "smin15      True\n",
       "smin1525    True\n",
       "smin155     True\n",
       "smin1575    True\n",
       "smin16      True\n",
       "smin1625    True\n",
       "smin165     True\n",
       "smin1675    True\n",
       "smin17      True\n",
       "smin175     True\n",
       "smin18      True\n",
       "smin185     True\n",
       "smin19      True\n",
       "smin195     True\n",
       "smin20      True\n",
       "smin21      True\n",
       "smin22      True\n",
       "smin23      True\n",
       "smin24      True\n",
       "smin26      True\n",
       "smin28      True\n",
       "dtype: bool"
      ]
     },
     "execution_count": 56,
     "metadata": {},
     "output_type": "execute_result"
    }
   ],
   "source": [
    "testOPESeriesForConvergence(kinAlD6D8)\n"
   ]
  },
  {
   "cell_type": "markdown",
   "metadata": {
    "ein.tags": "worksheet-0",
    "slideshow": {
     "slide_type": "-"
    }
   },
   "source": []
  },
  {
   "cell_type": "markdown",
   "metadata": {
    "ein.tags": "worksheet-0",
    "slideshow": {
     "slide_type": "-"
    }
   },
   "source": [
    "## Plots with fixed Alpha"
   ]
  },
  {
   "cell_type": "code",
   "execution_count": 8,
   "metadata": {
    "autoscroll": false,
    "collapsed": false,
    "ein.hycell": false,
    "ein.tags": "worksheet-0",
    "slideshow": {
     "slide_type": "slide"
    }
   },
   "outputs": [
    {
     "data": {
      "image/png": "[encoded data removed]",
      "text/plain": [
       "<Figure size 1008x360 with 2 Axes>"
      ]
     },
     "metadata": {},
     "output_type": "display_data"
    }
   ],
   "source": [
    "s0s = list(map(lambda smin: sMinMap[smin], kinD6D8.index))\n",
    "# plt.title(r'Fit of $\\omega_\\tau$ with fixed $\\alpha_s = 0.3179, D6$ and $D8$ using FOPT.')\n",
    "plt.gca().set_ylabel(r'$c_6, c_8$')\n",
    "plt.errorbar(s0s, kinD6D8['c6'], barsabove=True, yerr=kinD6D8['c6Err'], fmt='.', marker='o', label='c6')\n",
    "plt.errorbar(s0s, kinD6D8['c8'], barsabove=True, yerr=kinD6D8['c8Err'], fmt='.', marker='o', label='c8')\n",
    "plt.gca().legend()\n",
    "plt.gcf().set_size_inches(14, 5)\n",
    "\n",
    "ax_r = plt.gca().twinx()\n",
    "ax_r.plot(s0s, kinD6D8['chiDof'], color='lightgrey')\n",
    "ax_r.grid(False)\n",
    "\n",
    "plt.gca().xaxis.set_major_locator(MaxNLocator(integer=True))\n",
    "\n",
    "plt.gcf().savefig('../../Thesis/chapters/tauDecaysIntoHadrons/images/fitWKinD6D8.png', dpi=300)\n",
    "plt.show()"
   ]
  },
  {
   "cell_type": "markdown",
   "metadata": {
    "ein.tags": "worksheet-0",
    "slideshow": {
     "slide_type": "-"
    }
   },
   "source": [
    "In the above plot we investigated the behavior of $c_6$ and $c_8$ for a fixed $\\alpha_s=0.3179$. The best $\\chi^2/dof=1.33$ values for $c_6=-0.15(53)$ and $c_8=0.22(11)$ can be found for $10 s_0s$ moments for $s_{min}=1.925GeV^2$. The fit including a free $\\alpha_s$ shows very similar behavior to this fit, except the $c_6$ and $c_8$ series behavior has been inverted. They decrease, increase and converges to values $c_6 \\approx -0.34$ and $c_8 \\approx -0.21$. The values of the two OPE coefficients are smaller than the ones from the fit with free $\\alpha_s$, which can be explained due to the lower value for $\\alpha_s=0.3179$ (before we had $\\alpha_s \\approx 0.33$) compensating the bigger values of $c_8$ and $c_6$. One still sees the strong correlation between the two coefficients and also notes that they are getting closer to each other with increasing $s_0s$-moment number."
   ]
  },
  {
   "cell_type": "code",
   "execution_count": 76,
   "metadata": {
    "autoscroll": false,
    "collapsed": false,
    "ein.hycell": false,
    "ein.tags": "worksheet-0",
    "slideshow": {
     "slide_type": "-"
    }
   },
   "outputs": [
    {
     "data": {
      "text/plain": [
       "smin15      True\n",
       "smin1525    True\n",
       "smin155     True\n",
       "smin1575    True\n",
       "smin16      True\n",
       "smin1625    True\n",
       "smin165     True\n",
       "smin1675    True\n",
       "smin17      True\n",
       "smin175     True\n",
       "smin18      True\n",
       "smin185     True\n",
       "smin19      True\n",
       "smin195     True\n",
       "smin20      True\n",
       "smin21      True\n",
       "smin22      True\n",
       "smin23      True\n",
       "smin24      True\n",
       "smin26      True\n",
       "smin28      True\n",
       "dtype: bool"
      ]
     },
     "execution_count": 76,
     "metadata": {},
     "output_type": "execute_result"
    }
   ],
   "source": [
    "testOPESeriesForConvergence(kinD6D8)"
   ]
  },
  {
   "cell_type": "markdown",
   "metadata": {
    "ein.tags": "worksheet-0",
    "slideshow": {
     "slide_type": "-"
    }
   },
   "source": [
    "OPE series converges for fits with fixed $\\alpha_s$."
   ]
  },
  {
   "cell_type": "markdown",
   "metadata": {
    "ein.tags": "worksheet-0",
    "slideshow": {
     "slide_type": "-"
    }
   },
   "source": [
    "# Conclusion\n",
    "The fits show no sign of inconsitency and have a good $\\chi^2/dof$. Furthermore the variation of $\\alpha_s$ for different moments setups is small, which let us raise the question of why additional frameworks than the OPE are needed to measure the strong coupling in $\\tau$-fits.\n",
    "Using $\\omega_\\tau$ is probably the best weight of measuring $\\alpha_s$. Other weights like the cubic or (worse) the quartic weight generate problems within my fitting routines for heigher numbers of $s_0s$-moments.\n"
   ]
  }
 ],
 "metadata": {
  "kernelspec": {
   "argv": [
    "/anaconda3/bin/python",
    "-m",
    "ipykernel_launcher",
    "-f",
    "{connection_file}"
   ],
   "display_name": "Python (myenv)",
   "env": null,
   "interrupt_mode": "signal",
   "language": "python",
   "metadata": null,
   "name": "myenv"
  },
  "language_info": {
   "codemirror_mode": {
    "name": "ipython",
    "version": 3
   },
   "file_extension": ".py",
   "mimetype": "text/x-python",
   "name": "python",
   "nbconvert_exporter": "python",
   "pygments_lexer": "ipython3",
   "version": "3.6.8"
  },
  "name": "wKinematic.ipynb"
 },
 "nbformat": 4,
 "nbformat_minor": 2
}
