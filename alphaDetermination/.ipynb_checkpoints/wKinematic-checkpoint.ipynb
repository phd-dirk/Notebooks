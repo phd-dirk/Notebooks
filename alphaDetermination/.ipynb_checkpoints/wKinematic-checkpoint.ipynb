{
 "cells": [
  {
   "cell_type": "code",
   "execution_count": 1,
   "metadata": {
    "autoscroll": false,
    "ein.hycell": false,
    "ein.tags": "worksheet-0",
    "slideshow": {
     "slide_type": "-"
    }
   },
   "outputs": [],
   "source": [
    "import numpy as np\n",
    "import pandas as pd\n",
    "import matplotlib as mpl\n",
    "import matplotlib.pyplot as plt\n",
    "mpl.rcParams['figure.figsize'] = 15, 5 "
   ]
  },
  {
   "cell_type": "markdown",
   "metadata": {
    "ein.tags": "worksheet-0",
    "slideshow": {
     "slide_type": "-"
    }
   },
   "source": [
    "# Kinematic Weight (1-x)^2(1+2x)"
   ]
  },
  {
   "cell_type": "markdown",
   "metadata": {
    "ein.tags": "worksheet-0",
    "slideshow": {
     "slide_type": "-"
    }
   },
   "source": [
    "## Fit: D6, D8"
   ]
  },
  {
   "cell_type": "code",
   "execution_count": 2,
   "metadata": {
    "autoscroll": false,
    "ein.hycell": false,
    "ein.tags": "worksheet-0",
    "slideshow": {
     "slide_type": "-"
    }
   },
   "outputs": [
    {
     "name": "stdout",
     "output_type": "stream",
     "text": [
      "Table:\n",
      "                c6     c6Err        c8     c8Err    chiDof\n",
      "smin1975 -0.144237  0.058005  0.247503  0.122008  1.495874\n",
      "smin2050 -0.150188  0.065237  0.231446  0.146109  1.738290\n",
      "smin2150 -0.130734  0.081592  0.299224  0.207295  1.591461\n",
      "smin2250 -0.184449  0.029045 -0.035627  0.032733  2.156196\n",
      "smin2350 -0.075826  0.097150  0.485255  0.273662  1.760415\n",
      "smin2500  0.098550  0.137100  1.142428  0.455856  1.015927\n",
      "smin2700  0.445316  0.281151  2.628277  1.146303  0.036236\n"
     ]
    },
    {
     "data": {
      "image/png": "[encoded data removed]",
      "text/plain": [
       "<Figure size 432x288 with 2 Axes>"
      ]
     },
     "metadata": {
      "needs_background": "light"
     },
     "output_type": "display_data"
    }
   ],
   "source": [
    "data = np.genfromtxt('../../FESR/configurations/2018/wKinematicD6D8/fits.csv', delimiter=',', skip_header=2)\n",
    "print('Table:')\n",
    "df = pd.DataFrame(\n",
    "    data,\n",
    "    index=[\n",
    "        'smin1975', 'smin2050', 'smin2150', 'smin2250', 'smin2350', 'smin2500',\n",
    "        'smin2700'\n",
    "    ],\n",
    "    columns=[\n",
    "        'status', 'alpha', 'alphaErr', 'aGGInv', 'aGGInvErr', 'c6', 'c6Err',\n",
    "        'c8', 'c8Err', 'c10', 'c10Err', 'c12', 'c12Err', 'chi', 'dof',\n",
    "        'chiDof', 'edm', 'del0', 'del4', 'del6', 'del8', 'del10', 'del12'\n",
    "    ]\n",
    ")\n",
    "print(df[['c6', 'c6Err', 'c8', 'c8Err', 'chiDof']])\n",
    "c6s = data[:,5]\n",
    "c6Errs = data[:,6]\n",
    "c8s = data[:,7]\n",
    "c8Errs = data[:,8]\n",
    "s0s = np.array([9, 8, 7, 6, 5, 4, 3])\n",
    "plt.suptitle('(1-x)^2(1-2x) with free D6 and D8 contributions for different s0s')\n",
    "plt.subplot(1, 2, 1)\n",
    "plt.title('c6 with errors')\n",
    "plt.errorbar(s0s, c6s, yerr=c6Errs, barsabove=True, fmt='.', marker='o')\n",
    "plt.subplot(1, 2, 2)\n",
    "plt.title('c8 with errors')\n",
    "plt.errorbar(s0s, c8s, yerr=c8Errs, barsabove=True, fmt='.', marker='o')\n",
    "plt.show()\n",
    "bestWKinematicD6D8Row = data[5,:]"
   ]
  },
  {
   "cell_type": "markdown",
   "metadata": {
    "ein.tags": "worksheet-0",
    "slideshow": {
     "slide_type": "-"
    }
   },
   "source": [
    "D6 and D8 are strongly correlated and converge close to zero for an increasing number of s0s."
   ]
  },
  {
   "cell_type": "markdown",
   "metadata": {
    "ein.tags": "worksheet-0",
    "slideshow": {
     "slide_type": "-"
    }
   },
   "source": [
    "## Fit: D6, D8, Alpha"
   ]
  },
  {
   "cell_type": "code",
   "execution_count": 3,
   "metadata": {
    "autoscroll": false,
    "ein.hycell": false,
    "ein.tags": "worksheet-0",
    "slideshow": {
     "slide_type": "-"
    }
   },
   "outputs": [
    {
     "name": "stdout",
     "output_type": "stream",
     "text": [
      "Table:\n",
      "             alpha  alphaErr        c6     c6Err        c8     c8Err    chiDof\n",
      "smin1975  0.323386  0.003371 -0.316713  0.121847 -0.028455  0.209107  1.310398\n",
      "smin2050  0.325630  0.003839 -0.428532  0.154418 -0.249555  0.280045  1.303454\n",
      "smin2150  0.330818  0.004434 -0.715036  0.199513 -0.849503  0.379457  0.193253\n",
      "smin2250  0.330388  0.005184 -0.690502  0.251264 -0.796583  0.503083  0.249410\n",
      "smin2350  0.333901  0.007023 -0.905553  0.386941 -1.287242  0.833414  0.098637\n",
      "smin2500  0.339817  0.015241 -1.316355  1.026266 -2.299602  2.469876  0.007562\n"
     ]
    },
    {
     "data": {
      "image/png": "[encoded data removed]",
      "text/plain": [
       "<Figure size 432x288 with 4 Axes>"
      ]
     },
     "metadata": {
      "needs_background": "light"
     },
     "output_type": "display_data"
    }
   ],
   "source": [
    "data = np.genfromtxt('../../FESR/configurations/2018/wKinematicD6D8Alpha/fits.csv', delimiter=',', skip_header=2)\n",
    "print('Table:')\n",
    "df = pd.DataFrame(\n",
    "    data,\n",
    "    index=[\n",
    "        'smin1975', 'smin2050', 'smin2150', 'smin2250', 'smin2350', 'smin2500'\n",
    "    ],\n",
    "    columns=[\n",
    "        'status', 'alpha', 'alphaErr', 'aGGInv', 'aGGInvErr', 'c6', 'c6Err',\n",
    "        'c8', 'c8Err', 'c10', 'c10Err', 'c12', 'c12Err', 'chi', 'dof',\n",
    "        'chiDof', 'edm', 'del0', 'del4', 'del6', 'del8', 'del10', 'del12'\n",
    "    ]\n",
    ")\n",
    "print(df[['alpha', 'alphaErr', 'c6', 'c6Err', 'c8', 'c8Err', 'chiDof']])\n",
    "chi2Dofs = data[:,15]\n",
    "als = data[:,1]\n",
    "alErrs = data[:,2]\n",
    "c6s = data[:,5]\n",
    "c6Errs = data[:,6]\n",
    "c8s = data[:,7]\n",
    "c8Errs = data[:,8]\n",
    "s0s = np.array([9, 8, 7, 6, 5, 4])\n",
    "plt.suptitle('(1-x)^2(1-2x) with free D6, D8 and Alpha for different s0s')\n",
    "plt.title('Chi2/Dof')\n",
    "plt.subplot(2, 2, 1)\n",
    "plt.title('chi2')\n",
    "plt.plot(chi2Dofs)\n",
    "plt.subplot(2, 2, 2)\n",
    "plt.title('alpha with errors')\n",
    "plt.errorbar(s0s, als, yerr=alErrs, barsabove=True, fmt='.', marker='o')\n",
    "plt.subplot(2, 2, 3)\n",
    "plt.title('c6 with errors')\n",
    "plt.errorbar(s0s, c6s, yerr=c6Errs, barsabove=True, fmt='.', marker='o')\n",
    "plt.subplot(2, 2, 4)\n",
    "plt.title('c8 with errors')\n",
    "plt.errorbar(s0s, c8s, yerr=c8Errs, barsabove=True, fmt='.', marker='o')\n",
    "plt.show()\n",
    "bestWKinematicD6D8AlphaRow = data[1,:]"
   ]
  },
  {
   "cell_type": "markdown",
   "metadata": {
    "ein.tags": "worksheet-0",
    "slideshow": {
     "slide_type": "-"
    }
   },
   "source": [
    "The chi2/dof has a good value for the first two moments (4 and 5 s0s), but gets\n",
    "to low with increasing s0s number. Alpha_s and its is decreasing with the\n",
    "number of used s0s. Alpha_s has a stabel value around 0.33. c6 and c8 are\n",
    "negative and aproaching 0 with increasing moments."
   ]
  },
  {
   "cell_type": "code",
   "execution_count": 5,
   "metadata": {
    "autoscroll": false,
    "ein.hycell": false,
    "ein.tags": "worksheet-0",
    "slideshow": {
     "slide_type": "-"
    }
   },
   "outputs": [
    {
     "name": "stdout",
     "output_type": "stream",
     "text": [
      "Stored 'bestWKinematicRows' (ndarray)\n"
     ]
    }
   ],
   "source": [
    "bestWKinematicRows = np.array([bestWKinematicD6D8Row, bestWKinematicD6D8AlphaRow])\n",
    "%store bestWKinematicRows"
   ]
  },
  {
   "cell_type": "code",
   "execution_count": 10,
   "metadata": {
    "autoscroll": false,
    "ein.hycell": false,
    "ein.tags": "worksheet-0",
    "slideshow": {
     "slide_type": "-"
    }
   },
   "outputs": [
    {
     "data": {
      "image/png": "[encoded data removed]",
      "text/plain": [
       "<Figure size 432x288 with 2 Axes>"
      ]
     },
     "metadata": {
      "needs_background": "light"
     },
     "output_type": "display_data"
    }
   ],
   "source": [
    "plt.suptitle('Delta contribs of (1-x)^2(1-2x) with free D6, D8 and Alpha for \"best\" rows')\n",
    "deltasD6D8 = np.array([abs(x) for x in bestWKinematicRows[0,18:]])\n",
    "deltasD6D8Alpha = np.array([abs(x) for x in bestWKinematicRows[1,18:]])\n",
    "deltaVec = ['del4', 'del6', 'del8', 'del10', 'del12']\n",
    "plt.subplot(2, 2, 1)\n",
    "plt.title('deltas: D6 and D8')\n",
    "plt.plot(deltaVec, deltasD6D8)\n",
    "plt.subplot(2, 2, 2)\n",
    "plt.title('deltas: D6, D8 and Alpha free')\n",
    "plt.plot(deltaVec, deltasD6D8Alpha)\n",
    "plt.show()"
   ]
  },
  {
   "cell_type": "code",
   "execution_count": null,
   "metadata": {
    "autoscroll": false,
    "ein.hycell": false,
    "ein.tags": "worksheet-0",
    "slideshow": {
     "slide_type": "-"
    }
   },
   "outputs": [],
   "source": []
  }
 ],
 "metadata": {
  "kernelspec": {
   "display_name": "Python 3",
   "language": "python",
   "name": "python3"
  },
  "language_info": {
   "codemirror_mode": {
    "name": "ipython",
    "version": 3
   },
   "file_extension": ".py",
   "mimetype": "text/x-python",
   "name": "python",
   "nbconvert_exporter": "python",
   "pygments_lexer": "ipython3",
   "version": "3.7.0"
  },
  "name": "wKinematic.ipynb"
 },
 "nbformat": 4,
 "nbformat_minor": 2
}
