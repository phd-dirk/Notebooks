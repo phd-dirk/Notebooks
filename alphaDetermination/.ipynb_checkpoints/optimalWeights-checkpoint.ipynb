{
 "cells": [
  {
   "cell_type": "code",
   "execution_count": 3,
   "metadata": {
    "autoscroll": false,
    "collapsed": false,
    "ein.hycell": false,
    "ein.tags": "worksheet-0",
    "slideshow": {
     "slide_type": "-"
    }
   },
   "outputs": [],
   "source": [
    "from phd_helper import *"
   ]
  },
  {
   "cell_type": "code",
   "execution_count": 4,
   "metadata": {
    "autoscroll": false,
    "collapsed": false,
    "ein.hycell": false,
    "ein.tags": "worksheet-0",
    "slideshow": {
     "slide_type": "-"
    }
   },
   "outputs": [],
   "source": [
    "wOpt10AlD4 = read_csv('../../FESR/configurations/2019/wOpt10AlD4/fits.csv')\n",
    "wOpt20AlD4D6 = read_csv('../../FESR/configurations/2019/wOpt20AlD4D6/fits.csv')\n",
    "wOpt30AlD4D6D8 = read_csv('../../FESR/configurations/2019/wOpt30AlD4D6D8/fits.csv')\n",
    "wOpt40AlD4D6D8D10 = read_csv('../../FESR/configurations/2019/wOpt40AlD4D6D8D10/fits.csv')"
   ]
  },
  {
   "cell_type": "code",
   "execution_count": 7,
   "metadata": {
    "autoscroll": false,
    "collapsed": false,
    "ein.hycell": false,
    "ein.tags": "worksheet-0",
    "slideshow": {
     "slide_type": "-"
    }
   },
   "outputs": [
    {
     "name": "stdout",
     "output_type": "stream",
     "text": [
      "0.3369(26) & -0.0508(43) & 5.7 \\\\\n",
      "0.3376(24) & -0.0514(40) & 5.89 \\\\\n",
      "0.3395(28) & -0.0536(48) & 5.56 \\\\\n",
      "0.3395(28) & -0.0537(47) & 5.87 \\\\\n",
      "0.34047(68) & -0.05458(42) & 5.86 \\\\\n",
      "0.3414(30) & -0.0555(50) & 6.0 \\\\\n",
      "0.3418(30) & -0.0561(51) & 6.35 \\\\\n",
      "0.3430(32) & -0.0571(55) & 6.14 \\\\\n",
      "0.3436(33) & -0.0579(56) & 6.44 \\\\\n",
      "0.3457(36) & -0.0597(64) & 5.72 \\\\\n",
      "0.3462(37) & -0.0603(66) & 6.18 \\\\\n",
      "0.3479(43) & -0.0613(76) & 5.02 \\\\\n",
      "0.3489(46) & -0.0622(82) & 5.06 \\\\\n",
      "0.3528(65) & -0.067(12) & 1.69 \\\\\n",
      "0.3560(93) & -0.071(18) & 0.98 \\\\\n",
      "0.357(12) & -0.072(23) & 0.95 \\\\\n",
      "0.3593(97) & -0.079(19) & 0.2 \\\\\n",
      "0.3589(99) & -0.078(20) & 0.24 \\\\\n",
      "0.360(10) & -0.080(21) & 0.28 \\\\\n",
      "0.359(13) & -0.078(26) & 0.41 \\\\\n",
      "0.375(26) & -0.114(62) & 0.1 \\\\\n",
      "\n"
     ]
    }
   ],
   "source": [
    "print(dfToLatexTable(wOpt10AlD4, ['alpha', 'aGGInv']))\n",
    "# print(dfToLatexTable(wOpt20AlD4D6, ['alpha', 'aGGInv', 'c6']))\n",
    "# print(dfToLatexTable(wOpt30AlD4D6D8, ['alpha', 'aGGInv', 'c6', 'c8']))"
   ]
  },
  {
   "cell_type": "code",
   "execution_count": 4,
   "metadata": {
    "autoscroll": false,
    "collapsed": false,
    "ein.hycell": false,
    "ein.tags": "worksheet-0",
    "slideshow": {
     "slide_type": "-"
    }
   },
   "outputs": [
    {
     "data": {
      "text/html": [
       "<div>\n",
       "<style scoped>\n",
       "    .dataframe tbody tr th:only-of-type {\n",
       "        vertical-align: middle;\n",
       "    }\n",
       "\n",
       "    .dataframe tbody tr th {\n",
       "        vertical-align: top;\n",
       "    }\n",
       "\n",
       "    .dataframe thead th {\n",
       "        text-align: right;\n",
       "    }\n",
       "</style>\n",
       "<table border=\"1\" class=\"dataframe\">\n",
       "  <thead>\n",
       "    <tr style=\"text-align: right;\">\n",
       "      <th></th>\n",
       "      <th>status</th>\n",
       "      <th>alpha</th>\n",
       "      <th>alphaErr</th>\n",
       "      <th>aGGInv</th>\n",
       "      <th>aGGInvErr</th>\n",
       "      <th>c6</th>\n",
       "      <th>c6Err</th>\n",
       "      <th>c8</th>\n",
       "      <th>c8Err</th>\n",
       "      <th>c10</th>\n",
       "      <th>...</th>\n",
       "      <th>chi</th>\n",
       "      <th>dof</th>\n",
       "      <th>chiDof</th>\n",
       "      <th>edm</th>\n",
       "      <th>del^(0)</th>\n",
       "      <th>del^(4)</th>\n",
       "      <th>del^(6)</th>\n",
       "      <th>del^(8)</th>\n",
       "      <th>del^(10)</th>\n",
       "      <th>del^(12)</th>\n",
       "    </tr>\n",
       "  </thead>\n",
       "  <tbody>\n",
       "    <tr>\n",
       "      <th>smin1550</th>\n",
       "      <td>0</td>\n",
       "      <td>0.341559</td>\n",
       "      <td>0.001354</td>\n",
       "      <td>-0.013057</td>\n",
       "      <td>0.000833</td>\n",
       "      <td>-0.050440</td>\n",
       "      <td>0.022449</td>\n",
       "      <td>-0.390297</td>\n",
       "      <td>0.058693</td>\n",
       "      <td>-0.499993</td>\n",
       "      <td>...</td>\n",
       "      <td>8.530300</td>\n",
       "      <td>5</td>\n",
       "      <td>1.706060</td>\n",
       "      <td>0.000004</td>\n",
       "      <td>0.157560</td>\n",
       "      <td>-0.028464</td>\n",
       "      <td>0.001898</td>\n",
       "      <td>-0.001551</td>\n",
       "      <td>-7.559292e-19</td>\n",
       "      <td>4.182724e-20</td>\n",
       "    </tr>\n",
       "    <tr>\n",
       "      <th>smin1600</th>\n",
       "      <td>0</td>\n",
       "      <td>0.348022</td>\n",
       "      <td>0.002523</td>\n",
       "      <td>-0.020128</td>\n",
       "      <td>0.002706</td>\n",
       "      <td>-0.264021</td>\n",
       "      <td>0.090949</td>\n",
       "      <td>-1.024398</td>\n",
       "      <td>0.229528</td>\n",
       "      <td>-339.001892</td>\n",
       "      <td>...</td>\n",
       "      <td>1.236568</td>\n",
       "      <td>3</td>\n",
       "      <td>0.412189</td>\n",
       "      <td>0.000003</td>\n",
       "      <td>0.164948</td>\n",
       "      <td>-0.041504</td>\n",
       "      <td>0.009936</td>\n",
       "      <td>-0.004070</td>\n",
       "      <td>-9.007481e-16</td>\n",
       "      <td>4.182724e-20</td>\n",
       "    </tr>\n",
       "  </tbody>\n",
       "</table>\n",
       "<p>2 rows × 23 columns</p>\n",
       "</div>"
      ],
      "text/plain": [
       "          status     alpha  alphaErr    aGGInv  aGGInvErr        c6     c6Err  \\\n",
       "smin1550       0  0.341559  0.001354 -0.013057   0.000833 -0.050440  0.022449   \n",
       "smin1600       0  0.348022  0.002523 -0.020128   0.002706 -0.264021  0.090949   \n",
       "\n",
       "                c8     c8Err         c10      ...            chi  dof  \\\n",
       "smin1550 -0.390297  0.058693   -0.499993      ...       8.530300    5   \n",
       "smin1600 -1.024398  0.229528 -339.001892      ...       1.236568    3   \n",
       "\n",
       "            chiDof       edm   del^(0)   del^(4)   del^(6)   del^(8)  \\\n",
       "smin1550  1.706060  0.000004  0.157560 -0.028464  0.001898 -0.001551   \n",
       "smin1600  0.412189  0.000003  0.164948 -0.041504  0.009936 -0.004070   \n",
       "\n",
       "              del^(10)      del^(12)  \n",
       "smin1550 -7.559292e-19  4.182724e-20  \n",
       "smin1600 -9.007481e-16  4.182724e-20  \n",
       "\n",
       "[2 rows x 23 columns]"
      ]
     },
     "execution_count": 4,
     "metadata": {},
     "output_type": "execute_result"
    }
   ],
   "source": [
    "wOpt40AlD4D6D8D10"
   ]
  },
  {
   "cell_type": "code",
   "execution_count": null,
   "metadata": {
    "autoscroll": false,
    "collapsed": false,
    "ein.hycell": false,
    "ein.tags": "worksheet-0",
    "slideshow": {
     "slide_type": "-"
    }
   },
   "outputs": [],
   "source": []
  }
 ],
 "metadata": {
  "kernelspec": {
   "display_name": "Python (myenv)",
   "name": "myenv"
  },
  "name": "optimalWeights.ipynb"
 },
 "nbformat": 4,
 "nbformat_minor": 2
}
