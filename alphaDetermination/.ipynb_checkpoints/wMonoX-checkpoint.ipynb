{
 "cells": [
  {
   "cell_type": "code",
   "execution_count": 2,
   "metadata": {
    "autoscroll": false,
    "collapsed": false,
    "ein.hycell": false,
    "ein.tags": "worksheet-0",
    "slideshow": {
     "slide_type": "-"
    }
   },
   "outputs": [],
   "source": [
    "from phd_helper import *"
   ]
  },
  {
   "cell_type": "code",
   "execution_count": 5,
   "metadata": {
    "autoscroll": false,
    "collapsed": false,
    "ein.hycell": false,
    "ein.tags": "worksheet-0",
    "slideshow": {
     "slide_type": "-"
    }
   },
   "outputs": [
    {
     "name": "stdout",
     "output_type": "stream",
     "text": [
      "0.3217(14) & - & 6.94 \\\\\n",
      "0.3222(14) & - & 7.24 \\\\\n",
      "0.3222(15) & - & 8.44 \\\\\n",
      "0.3232(15) & - & 8.25 \\\\\n",
      "0.3238(15) & - & 9.17 \\\\\n",
      "0.3259(16) & - & 6.29 \\\\\n",
      "0.3277(17) & - & 4.84 \\\\\n",
      "0.3297(18) & - & 0.72 \\\\\n",
      "\n"
     ]
    }
   ],
   "source": [
    "wMonoX2df = read_csv('../../FESR/configurations/2019/wMonoX2AlphaD6/fits.csv')\n",
    "wMonoX3df = read_csv('../../FESR/configurations/2019/wMonoX3AlphaD8/fits.csv')\n",
    "wMonoX4df = read_csv('../../FESR/configurations/2019/wMonoX4AlphaD10/fits.csv')\n",
    "wMonoX3df_selected = wMonoX3df.iloc[16:20]\n",
    "wMonoX4df_selected = wMonoX4df.iloc[16:20]\n",
    "print(dfToLatexTable(wMonoX2df,['alpha','c6']))"
   ]
  },
  {
   "cell_type": "code",
   "execution_count": 6,
   "metadata": {
    "autoscroll": false,
    "collapsed": false,
    "ein.hycell": false,
    "ein.tags": "worksheet-0",
    "slideshow": {
     "slide_type": "-"
    }
   },
   "outputs": [
    {
     "data": {
      "text/html": [
       "<div>\n<style scoped>\n    .dataframe tbody tr th:only-of-type {\n        vertical-align: middle;\n    }\n\n    .dataframe tbody tr th {\n        vertical-align: top;\n    }\n\n    .dataframe thead th {\n        text-align: right;\n    }\n</style>\n<table border=\"1\" class=\"dataframe\">\n  <thead>\n    <tr style=\"text-align: right;\">\n      <th></th>\n      <th>status</th>\n      <th>alpha</th>\n      <th>alphaErr</th>\n      <th>aGGInv</th>\n      <th>aGGInvErr</th>\n      <th>c6</th>\n      <th>c6Err</th>\n      <th>c8</th>\n      <th>c8Err</th>\n      <th>c10</th>\n      <th>...</th>\n      <th>chi</th>\n      <th>dof</th>\n      <th>chiDof</th>\n      <th>edm</th>\n      <th>del^(0)</th>\n      <th>del^(4)</th>\n      <th>del^(6)</th>\n      <th>del^(8)</th>\n      <th>del^(10)</th>\n      <th>del^(12)</th>\n    </tr>\n  </thead>\n  <tbody>\n    <tr>\n      <th>smin15</th>\n      <td>0</td>\n      <td>0.321667</td>\n      <td>0.001415</td>\n      <td>0.021</td>\n      <td>0</td>\n      <td>-0.84917</td>\n      <td>0</td>\n      <td>-0.98</td>\n      <td>0</td>\n      <td>-1.5</td>\n      <td>...</td>\n      <td>55.521341</td>\n      <td>8</td>\n      <td>6.940168</td>\n      <td>9.274477e-07</td>\n      <td>0.260573</td>\n      <td>0.000391</td>\n      <td>-1.694386e-18</td>\n      <td>-0.003894</td>\n      <td>-4.241406e-18</td>\n      <td>0</td>\n    </tr>\n    <tr>\n      <th>smin1525</th>\n      <td>0</td>\n      <td>0.322234</td>\n      <td>0.001437</td>\n      <td>0.021</td>\n      <td>0</td>\n      <td>-0.84917</td>\n      <td>0</td>\n      <td>-0.98</td>\n      <td>0</td>\n      <td>-1.5</td>\n      <td>...</td>\n      <td>50.647763</td>\n      <td>7</td>\n      <td>7.235395</td>\n      <td>4.042511e-07</td>\n      <td>0.261305</td>\n      <td>0.000393</td>\n      <td>-1.694386e-18</td>\n      <td>-0.003894</td>\n      <td>-4.241406e-18</td>\n      <td>0</td>\n    </tr>\n    <tr>\n      <th>smin1550</th>\n      <td>0</td>\n      <td>0.322205</td>\n      <td>0.001465</td>\n      <td>0.021</td>\n      <td>0</td>\n      <td>-0.84917</td>\n      <td>0</td>\n      <td>-0.98</td>\n      <td>0</td>\n      <td>-1.5</td>\n      <td>...</td>\n      <td>50.637625</td>\n      <td>6</td>\n      <td>8.439604</td>\n      <td>2.849864e-07</td>\n      <td>0.261268</td>\n      <td>0.000393</td>\n      <td>-1.694386e-18</td>\n      <td>-0.003894</td>\n      <td>-4.241406e-18</td>\n      <td>0</td>\n    </tr>\n    <tr>\n      <th>smin1575</th>\n      <td>0</td>\n      <td>0.323200</td>\n      <td>0.001498</td>\n      <td>0.021</td>\n      <td>0</td>\n      <td>-0.84917</td>\n      <td>0</td>\n      <td>-0.98</td>\n      <td>0</td>\n      <td>-1.5</td>\n      <td>...</td>\n      <td>41.232220</td>\n      <td>5</td>\n      <td>8.246444</td>\n      <td>7.933929e-08</td>\n      <td>0.262554</td>\n      <td>0.000395</td>\n      <td>-1.694386e-18</td>\n      <td>-0.003894</td>\n      <td>-4.241406e-18</td>\n      <td>0</td>\n    </tr>\n    <tr>\n      <th>smin1600</th>\n      <td>0</td>\n      <td>0.323763</td>\n      <td>0.001519</td>\n      <td>0.021</td>\n      <td>0</td>\n      <td>-0.84917</td>\n      <td>0</td>\n      <td>-0.98</td>\n      <td>0</td>\n      <td>-1.5</td>\n      <td>...</td>\n      <td>36.691696</td>\n      <td>4</td>\n      <td>9.172924</td>\n      <td>5.805317e-10</td>\n      <td>0.263284</td>\n      <td>0.000397</td>\n      <td>-1.694386e-18</td>\n      <td>-0.003894</td>\n      <td>-4.241406e-18</td>\n      <td>0</td>\n    </tr>\n    <tr>\n      <th>smin1625</th>\n      <td>0</td>\n      <td>0.325895</td>\n      <td>0.001594</td>\n      <td>0.021</td>\n      <td>0</td>\n      <td>-0.84917</td>\n      <td>0</td>\n      <td>-0.98</td>\n      <td>0</td>\n      <td>-1.5</td>\n      <td>...</td>\n      <td>18.882351</td>\n      <td>3</td>\n      <td>6.294117</td>\n      <td>1.247809e-05</td>\n      <td>0.266061</td>\n      <td>0.000402</td>\n      <td>-1.694386e-18</td>\n      <td>-0.003894</td>\n      <td>-4.241406e-18</td>\n      <td>0</td>\n    </tr>\n    <tr>\n      <th>smin1650</th>\n      <td>0</td>\n      <td>0.327660</td>\n      <td>0.001690</td>\n      <td>0.021</td>\n      <td>0</td>\n      <td>-0.84917</td>\n      <td>0</td>\n      <td>-0.98</td>\n      <td>0</td>\n      <td>-1.5</td>\n      <td>...</td>\n      <td>9.678850</td>\n      <td>2</td>\n      <td>4.839425</td>\n      <td>9.430109e-07</td>\n      <td>0.268373</td>\n      <td>0.000407</td>\n      <td>-1.694386e-18</td>\n      <td>-0.003894</td>\n      <td>-4.241406e-18</td>\n      <td>0</td>\n    </tr>\n    <tr>\n      <th>smin1675</th>\n      <td>0</td>\n      <td>0.329731</td>\n      <td>0.001817</td>\n      <td>0.021</td>\n      <td>0</td>\n      <td>-0.84917</td>\n      <td>0</td>\n      <td>-0.98</td>\n      <td>0</td>\n      <td>-1.5</td>\n      <td>...</td>\n      <td>0.718397</td>\n      <td>1</td>\n      <td>0.718397</td>\n      <td>9.064009e-09</td>\n      <td>0.271104</td>\n      <td>0.000413</td>\n      <td>-1.694386e-18</td>\n      <td>-0.003894</td>\n      <td>-4.241406e-18</td>\n      <td>0</td>\n    </tr>\n  </tbody>\n</table>\n<p>8 rows × 23 columns</p>\n</div>"
      ],
      "text/plain": [
       "          status     alpha  alphaErr  aGGInv  aGGInvErr       c6  c6Err    c8  \\\nsmin15         0  0.321667  0.001415   0.021          0 -0.84917      0 -0.98   \nsmin1525       0  0.322234  0.001437   0.021          0 -0.84917      0 -0.98   \nsmin1550       0  0.322205  0.001465   0.021          0 -0.84917      0 -0.98   \nsmin1575       0  0.323200  0.001498   0.021          0 -0.84917      0 -0.98   \nsmin1600       0  0.323763  0.001519   0.021          0 -0.84917      0 -0.98   \nsmin1625       0  0.325895  0.001594   0.021          0 -0.84917      0 -0.98   \nsmin1650       0  0.327660  0.001690   0.021          0 -0.84917      0 -0.98   \nsmin1675       0  0.329731  0.001817   0.021          0 -0.84917      0 -0.98   \n\n          c8Err  c10    ...           chi  dof    chiDof           edm  \\\nsmin15        0 -1.5    ...     55.521341    8  6.940168  9.274477e-07   \nsmin1525      0 -1.5    ...     50.647763    7  7.235395  4.042511e-07   \nsmin1550      0 -1.5    ...     50.637625    6  8.439604  2.849864e-07   \nsmin1575      0 -1.5    ...     41.232220    5  8.246444  7.933929e-08   \nsmin1600      0 -1.5    ...     36.691696    4  9.172924  5.805317e-10   \nsmin1625      0 -1.5    ...     18.882351    3  6.294117  1.247809e-05   \nsmin1650      0 -1.5    ...      9.678850    2  4.839425  9.430109e-07   \nsmin1675      0 -1.5    ...      0.718397    1  0.718397  9.064009e-09   \n\n           del^(0)   del^(4)       del^(6)   del^(8)      del^(10)  del^(12)  \nsmin15    0.260573  0.000391 -1.694386e-18 -0.003894 -4.241406e-18         0  \nsmin1525  0.261305  0.000393 -1.694386e-18 -0.003894 -4.241406e-18         0  \nsmin1550  0.261268  0.000393 -1.694386e-18 -0.003894 -4.241406e-18         0  \nsmin1575  0.262554  0.000395 -1.694386e-18 -0.003894 -4.241406e-18         0  \nsmin1600  0.263284  0.000397 -1.694386e-18 -0.003894 -4.241406e-18         0  \nsmin1625  0.266061  0.000402 -1.694386e-18 -0.003894 -4.241406e-18         0  \nsmin1650  0.268373  0.000407 -1.694386e-18 -0.003894 -4.241406e-18         0  \nsmin1675  0.271104  0.000413 -1.694386e-18 -0.003894 -4.241406e-18         0  \n\n[8 rows x 23 columns]"
      ]
     },
     "execution_count": 6,
     "metadata": {},
     "output_type": "execute_result"
    }
   ],
   "source": [
    "wMonoX2df"
   ]
  },
  {
   "cell_type": "markdown",
   "metadata": {
    "ein.tags": "worksheet-0",
    "slideshow": {
     "slide_type": "-"
    }
   },
   "source": [
    "# Mean"
   ]
  },
  {
   "cell_type": "code",
   "execution_count": 22,
   "metadata": {
    "autoscroll": false,
    "collapsed": false,
    "ein.hycell": false,
    "ein.tags": "worksheet-0",
    "slideshow": {
     "slide_type": "-"
    }
   },
   "outputs": [
    {
     "name": "stdout",
     "output_type": "stream",
     "text": [
      "wMonoX3:\n",
      "alpha: 0.3238276158298935\n",
      "alphaErr: 4.182653965204365e-05\n",
      "c8: -1.32671166877576\n",
      "c8Err: 0.6681238336372737\n"
     ]
    }
   ],
   "source": [
    "print('wMonoX3:')\n",
    "print('alpha:', wMonoX3df_selected['alpha'].mean())\n",
    "print('alphaErr:', sum(map(lambda x: x**2, wMonoX3df_selected['alphaErr']))/5)\n",
    "print('c8:', wMonoX3df_selected['c8'].mean())\n",
    "print('c8Err:', sum(map(lambda x: x**2, wMonoX3df_selected['c8Err']))/5)\n"
   ]
  },
  {
   "cell_type": "code",
   "execution_count": 25,
   "metadata": {
    "autoscroll": false,
    "collapsed": false,
    "ein.hycell": false,
    "ein.tags": "worksheet-0",
    "slideshow": {
     "slide_type": "-"
    }
   },
   "outputs": [
    {
     "name": "stdout",
     "output_type": "stream",
     "text": [
      "wMonoX4:\n",
      "alpha: 0.3227738833697323\n",
      "alphaErr: 4.0472133661337316e-05\n",
      "c10: -2.3706738348671275\n",
      "c10Err: 3.6176855617419887\n"
     ]
    }
   ],
   "source": [
    "print('wMonoX4:')\n",
    "print('alpha:', wMonoX4df_selected['alpha'].mean())\n",
    "print('alphaErr:', sum(map(lambda x: x**2, wMonoX4df_selected['alphaErr']))/5)\n",
    "print('c10:', wMonoX4df_selected['c10'].mean())\n",
    "print('c10Err:', sum(map(lambda x: x**2, wMonoX4df_selected['c10Err']))/5)"
   ]
  },
  {
   "cell_type": "code",
   "execution_count": 8,
   "metadata": {
    "autoscroll": false,
    "collapsed": false,
    "ein.hycell": false,
    "ein.tags": "worksheet-0",
    "slideshow": {
     "slide_type": "-"
    }
   },
   "outputs": [
    {
     "name": "stdout",
     "output_type": "stream",
     "text": [
      "Values within error boundaries?\n",
      "Index(['smin1950', 'smin2000', 'smin2100'], dtype='object')\n",
      "alpha [True, True, True]\n",
      "c6 [True, True, True]\n",
      "c8 [True, True, True]\n",
      "OPE convergent?\n"
     ]
    },
    {
     "ename": "TypeError",
     "evalue": "has_df_convergent_OPE() missing 1 required positional argument: 'dimensions'",
     "output_type": "error",
     "traceback": [
      "\u001b[0;31m\u001b[0m",
      "\u001b[0;31mTypeError\u001b[0mTraceback (most recent call last)",
      "\u001b[0;32m<ipython-input-8-526bcde67c53>\u001b[0m in \u001b[0;36m<module>\u001b[0;34m()\u001b[0m\n\u001b[1;32m      5\u001b[0m \u001b[0mprint\u001b[0m\u001b[0;34m(\u001b[0m\u001b[0;34m'c8'\u001b[0m\u001b[0;34m,\u001b[0m \u001b[0misVarWithinErrBoundaries\u001b[0m\u001b[0;34m(\u001b[0m\u001b[0mselected_rows\u001b[0m\u001b[0;34m,\u001b[0m \u001b[0;34m'c8'\u001b[0m\u001b[0;34m)\u001b[0m\u001b[0;34m)\u001b[0m\u001b[0;34m\u001b[0m\u001b[0;34m\u001b[0m\u001b[0m\n\u001b[1;32m      6\u001b[0m \u001b[0mprint\u001b[0m\u001b[0;34m(\u001b[0m\u001b[0;34m'OPE convergent?'\u001b[0m\u001b[0;34m)\u001b[0m\u001b[0;34m\u001b[0m\u001b[0;34m\u001b[0m\u001b[0m\n\u001b[0;32m----> 7\u001b[0;31m \u001b[0mprint\u001b[0m\u001b[0;34m(\u001b[0m\u001b[0mhas_df_convergent_OPE\u001b[0m\u001b[0;34m(\u001b[0m\u001b[0mselected_rows\u001b[0m\u001b[0;34m)\u001b[0m\u001b[0;34m)\u001b[0m\u001b[0;34m\u001b[0m\u001b[0;34m\u001b[0m\u001b[0m\n\u001b[0m",
      "\u001b[0;31mTypeError\u001b[0m: has_df_convergent_OPE() missing 1 required positional argument: 'dimensions'"
     ]
    }
   ],
   "source": [
    "print('Values within error boundaries?')\n",
    "print(selected_rows.index)\n",
    "print('alpha', isVarWithinErrBoundaries(selected_rows, 'alpha'))\n",
    "print('c6', isVarWithinErrBoundaries(selected_rows, 'c6'))\n",
    "print('c8', isVarWithinErrBoundaries(selected_rows, 'c8'))"
   ]
  },
  {
   "cell_type": "code",
   "execution_count": 42,
   "metadata": {
    "autoscroll": false,
    "collapsed": false,
    "ein.hycell": false,
    "ein.tags": "worksheet-0",
    "slideshow": {
     "slide_type": "-"
    }
   },
   "outputs": [
    {
     "name": "stdout",
     "output_type": "stream",
     "text": [
      "             alpha  alphaErr        c8     c8Err\n",
      "smin15    0.316032  0.002802 -0.522942  0.064663\n",
      "smin1525  0.317093  0.002845 -0.577760  0.070464\n",
      "smin1550  0.317284  0.002903 -0.587027  0.076165\n",
      "smin1575  0.318652  0.002926 -0.667319  0.081605\n",
      "smin1600  0.318861  0.002976 -0.679304  0.087424\n",
      "smin1625  0.319496  0.003020 -0.718501  0.093710\n",
      "smin1650  0.320505  0.003048 -0.782654  0.099167\n",
      "smin1675  0.320356  0.003102 -0.772759  0.105858\n",
      "smin1700  0.320574  0.003125 -0.788558  0.109798\n",
      "smin1750  0.320170  0.003247 -0.759419  0.126021\n",
      "smin1800  0.321722  0.003315 -0.878758  0.139252\n",
      "smin1850  0.320228  0.003464 -0.752646  0.159656\n",
      "smin1900  0.320161  0.003559 -0.746591  0.175540\n",
      "smin1950  0.316120  0.003778 -0.402395  0.197994\n",
      "smin2000  0.314819  0.003949 -0.279801  0.222560\n",
      "smin2100  0.314695  0.004379 -0.267822  0.287914\n",
      "smin2200  0.321434  0.004894 -1.010286  0.394305\n",
      "smin2300  0.322742  0.005672 -1.178441  0.544632\n",
      "smin2400  0.325709  0.006703 -1.582566  0.742002\n",
      "smin2600  0.325426  0.010396 -1.535554  1.529036\n",
      "smin2800  0.326150  0.020614 -1.685437  4.033288\n"
     ]
    }
   ],
   "source": [
    "print(wMonoX3df[['alpha', 'alphaErr', 'c8', 'c8Err']])"
   ]
  },
  {
   "cell_type": "code",
   "execution_count": 23,
   "metadata": {
    "autoscroll": false,
    "collapsed": false,
    "ein.hycell": false,
    "ein.tags": "worksheet-0",
    "slideshow": {
     "slide_type": "-"
    }
   },
   "outputs": [],
   "source": [
    "def getUncertaintyParenthesis(val, err):\n",
    "    digits = 2\n",
    "\n",
    "    eVal = '%e' % err\n",
    "    print(eVal.partition('-'))\n",
    "    errZeroes = int(eVal.partition('-')[2])-1\n",
    "    parenthesisErr = int(round(err*10**(errZeroes+digits),0))\n",
    "    return '{val:.0{width}f}'.format(val=val,width=errZeroes+digits)+'('+str(parenthesisErr)+')'"
   ]
  },
  {
   "cell_type": "code",
   "execution_count": 24,
   "metadata": {
    "autoscroll": false,
    "collapsed": false,
    "ein.hycell": false,
    "ein.tags": "worksheet-0",
    "slideshow": {
     "slide_type": "-"
    }
   },
   "outputs": [
    {
     "name": "stdout",
     "output_type": "stream",
     "text": [
      "('2.014127e+00', '', '')\n"
     ]
    },
    {
     "ename": "ValueError",
     "evalue": "invalid literal for int() with base 10: ''",
     "output_type": "error",
     "traceback": [
      "\u001b[0;31m\u001b[0m",
      "\u001b[0;31mValueError\u001b[0mTraceback (most recent call last)",
      "\u001b[0;32m<ipython-input-24-be29f6a98ebe>\u001b[0m in \u001b[0;36m<module>\u001b[0;34m()\u001b[0m\n\u001b[1;32m      2\u001b[0m \u001b[0mxErr\u001b[0m \u001b[0;34m=\u001b[0m \u001b[0;36m2.014127\u001b[0m\u001b[0;34m\u001b[0m\u001b[0;34m\u001b[0m\u001b[0m\n\u001b[1;32m      3\u001b[0m \u001b[0;34m\u001b[0m\u001b[0m\n\u001b[0;32m----> 4\u001b[0;31m \u001b[0mgetUncertaintyParenthesis\u001b[0m\u001b[0;34m(\u001b[0m\u001b[0mxVal\u001b[0m\u001b[0;34m,\u001b[0m \u001b[0mxErr\u001b[0m\u001b[0;34m)\u001b[0m\u001b[0;34m\u001b[0m\u001b[0;34m\u001b[0m\u001b[0m\n\u001b[0m",
      "\u001b[0;32m<ipython-input-23-f7f3ed1b770f>\u001b[0m in \u001b[0;36mgetUncertaintyParenthesis\u001b[0;34m(val, err)\u001b[0m\n\u001b[1;32m      4\u001b[0m     \u001b[0meVal\u001b[0m \u001b[0;34m=\u001b[0m \u001b[0;34m'%e'\u001b[0m \u001b[0;34m%\u001b[0m \u001b[0merr\u001b[0m\u001b[0;34m\u001b[0m\u001b[0;34m\u001b[0m\u001b[0m\n\u001b[1;32m      5\u001b[0m     \u001b[0mprint\u001b[0m\u001b[0;34m(\u001b[0m\u001b[0meVal\u001b[0m\u001b[0;34m.\u001b[0m\u001b[0mpartition\u001b[0m\u001b[0;34m(\u001b[0m\u001b[0;34m'-'\u001b[0m\u001b[0;34m)\u001b[0m\u001b[0;34m)\u001b[0m\u001b[0;34m\u001b[0m\u001b[0;34m\u001b[0m\u001b[0m\n\u001b[0;32m----> 6\u001b[0;31m     \u001b[0merrZeroes\u001b[0m \u001b[0;34m=\u001b[0m \u001b[0mint\u001b[0m\u001b[0;34m(\u001b[0m\u001b[0meVal\u001b[0m\u001b[0;34m.\u001b[0m\u001b[0mpartition\u001b[0m\u001b[0;34m(\u001b[0m\u001b[0;34m'-'\u001b[0m\u001b[0;34m)\u001b[0m\u001b[0;34m[\u001b[0m\u001b[0;36m2\u001b[0m\u001b[0;34m]\u001b[0m\u001b[0;34m)\u001b[0m\u001b[0;34m-\u001b[0m\u001b[0;36m1\u001b[0m\u001b[0;34m\u001b[0m\u001b[0;34m\u001b[0m\u001b[0m\n\u001b[0m\u001b[1;32m      7\u001b[0m     \u001b[0mparenthesisErr\u001b[0m \u001b[0;34m=\u001b[0m \u001b[0mint\u001b[0m\u001b[0;34m(\u001b[0m\u001b[0mround\u001b[0m\u001b[0;34m(\u001b[0m\u001b[0merr\u001b[0m\u001b[0;34m*\u001b[0m\u001b[0;36m10\u001b[0m\u001b[0;34m**\u001b[0m\u001b[0;34m(\u001b[0m\u001b[0merrZeroes\u001b[0m\u001b[0;34m+\u001b[0m\u001b[0mdigits\u001b[0m\u001b[0;34m)\u001b[0m\u001b[0;34m,\u001b[0m\u001b[0;36m0\u001b[0m\u001b[0;34m)\u001b[0m\u001b[0;34m)\u001b[0m\u001b[0;34m\u001b[0m\u001b[0;34m\u001b[0m\u001b[0m\n\u001b[1;32m      8\u001b[0m     \u001b[0;32mreturn\u001b[0m \u001b[0;34m'{val:.0{width}f}'\u001b[0m\u001b[0;34m.\u001b[0m\u001b[0mformat\u001b[0m\u001b[0;34m(\u001b[0m\u001b[0mval\u001b[0m\u001b[0;34m=\u001b[0m\u001b[0mval\u001b[0m\u001b[0;34m,\u001b[0m\u001b[0mwidth\u001b[0m\u001b[0;34m=\u001b[0m\u001b[0merrZeroes\u001b[0m\u001b[0;34m+\u001b[0m\u001b[0mdigits\u001b[0m\u001b[0;34m)\u001b[0m\u001b[0;34m+\u001b[0m\u001b[0;34m'('\u001b[0m\u001b[0;34m+\u001b[0m\u001b[0mstr\u001b[0m\u001b[0;34m(\u001b[0m\u001b[0mparenthesisErr\u001b[0m\u001b[0;34m)\u001b[0m\u001b[0;34m+\u001b[0m\u001b[0;34m')'\u001b[0m\u001b[0;34m\u001b[0m\u001b[0;34m\u001b[0m\u001b[0m\n",
      "\u001b[0;31mValueError\u001b[0m: invalid literal for int() with base 10: ''"
     ]
    }
   ],
   "source": [
    "xVal = -8.146886\n",
    "xErr = 2.014127\n",
    "\n",
    "getUncertaintyParenthesis(xVal, xErr)"
   ]
  },
  {
   "cell_type": "code",
   "execution_count": 21,
   "metadata": {
    "autoscroll": false,
    "collapsed": false,
    "ein.hycell": false,
    "ein.tags": "worksheet-0",
    "slideshow": {
     "slide_type": "-"
    }
   },
   "outputs": [
    {
     "name": "stdout",
     "output_type": "stream",
     "text": [
      "0.3275(15) & -0.874(69) & 4.23 \\\\\n",
      "0.3280(15) & -0.971(76) & 4.0 \\\\\n",
      "0.3283(15) & -1.017(83) & 4.11 \\\\\n",
      "0.3290(16) & -1.144(91) & 3.62 \\\\\n",
      "0.3292(16) & -1.188(99) & 3.76 \\\\\n",
      "0.3295(16) & -1.27(11) & 3.75 \\\\\n",
      "0.3300(16) & -1.38(11) & 3.5 \\\\\n",
      "0.3301(16) & -1.40(12) & 3.74 \\\\\n",
      "0.3303(16) & -1.44(13) & 3.95 \\\\\n",
      "0.3304(16) & -1.48(16) & 4.25 \\\\\n",
      "0.3312(16) & -1.71(17) & 3.85 \\\\\n",
      "0.3310(17) & -1.64(21) & 4.2 \\\\\n",
      "0.3312(17) & -1.72(23) & 4.61 \\\\\n",
      "0.3303(17) & -1.40(27) & 4.46 \\\\\n",
      "0.3303(18) & -1.40(31) & 5.1 \\\\\n",
      "0.3312(19) & -1.84(41) & 5.49 \\\\\n",
      "0.3342(20) & -3.49(55) & 2.51 \\\\\n",
      "0.3357(21) & -4.45(76) & 2.31 \\\\\n"
     ]
    },
    {
     "ename": "ValueError",
     "evalue": "invalid literal for int() with base 10: ''",
     "output_type": "error",
     "traceback": [
      "\u001b[0;31m\u001b[0m",
      "\u001b[0;31mValueError\u001b[0mTraceback (most recent call last)",
      "\u001b[0;32m<ipython-input-21-ec9c47cff576>\u001b[0m in \u001b[0;36m<module>\u001b[0;34m()\u001b[0m\n\u001b[1;32m      1\u001b[0m \u001b[0;32mfor\u001b[0m \u001b[0mindex\u001b[0m\u001b[0;34m,\u001b[0m \u001b[0mrow\u001b[0m \u001b[0;32min\u001b[0m \u001b[0mwMonoX4df\u001b[0m\u001b[0;34m.\u001b[0m\u001b[0miterrows\u001b[0m\u001b[0;34m(\u001b[0m\u001b[0;34m)\u001b[0m\u001b[0;34m:\u001b[0m\u001b[0;34m\u001b[0m\u001b[0;34m\u001b[0m\u001b[0m\n\u001b[0;32m----> 2\u001b[0;31m     \u001b[0mprint\u001b[0m\u001b[0;34m(\u001b[0m\u001b[0mgetUncertaintyParenthesis\u001b[0m\u001b[0;34m(\u001b[0m\u001b[0mrow\u001b[0m\u001b[0;34m[\u001b[0m\u001b[0;34m'alpha'\u001b[0m\u001b[0;34m]\u001b[0m\u001b[0;34m,\u001b[0m \u001b[0mrow\u001b[0m\u001b[0;34m[\u001b[0m\u001b[0;34m'alphaErr'\u001b[0m\u001b[0;34m]\u001b[0m\u001b[0;34m)\u001b[0m\u001b[0;34m,\u001b[0m\u001b[0;34m'&'\u001b[0m\u001b[0;34m,\u001b[0m\u001b[0mgetUncertaintyParenthesis\u001b[0m\u001b[0;34m(\u001b[0m\u001b[0mrow\u001b[0m\u001b[0;34m[\u001b[0m\u001b[0;34m'c10'\u001b[0m\u001b[0;34m]\u001b[0m\u001b[0;34m,\u001b[0m\u001b[0mrow\u001b[0m\u001b[0;34m[\u001b[0m\u001b[0;34m'c10Err'\u001b[0m\u001b[0;34m]\u001b[0m\u001b[0;34m)\u001b[0m\u001b[0;34m,\u001b[0m\u001b[0;34m'&'\u001b[0m\u001b[0;34m,\u001b[0m\u001b[0mround\u001b[0m\u001b[0;34m(\u001b[0m\u001b[0mrow\u001b[0m\u001b[0;34m[\u001b[0m\u001b[0;34m'chiDof'\u001b[0m\u001b[0;34m]\u001b[0m\u001b[0;34m,\u001b[0m\u001b[0;36m2\u001b[0m\u001b[0;34m)\u001b[0m\u001b[0;34m,\u001b[0m\u001b[0;34m'\\\\\\\\'\u001b[0m\u001b[0;34m)\u001b[0m\u001b[0;34m\u001b[0m\u001b[0;34m\u001b[0m\u001b[0m\n\u001b[0m",
      "\u001b[0;32m<ipython-input-20-e90b683a0790>\u001b[0m in \u001b[0;36mgetUncertaintyParenthesis\u001b[0;34m(val, err)\u001b[0m\n\u001b[1;32m      3\u001b[0m \u001b[0;34m\u001b[0m\u001b[0m\n\u001b[1;32m      4\u001b[0m     \u001b[0meVal\u001b[0m \u001b[0;34m=\u001b[0m \u001b[0;34m'%e'\u001b[0m \u001b[0;34m%\u001b[0m \u001b[0merr\u001b[0m\u001b[0;34m\u001b[0m\u001b[0;34m\u001b[0m\u001b[0m\n\u001b[0;32m----> 5\u001b[0;31m     \u001b[0merrZeroes\u001b[0m \u001b[0;34m=\u001b[0m \u001b[0mint\u001b[0m\u001b[0;34m(\u001b[0m\u001b[0meVal\u001b[0m\u001b[0;34m.\u001b[0m\u001b[0mpartition\u001b[0m\u001b[0;34m(\u001b[0m\u001b[0;34m'-'\u001b[0m\u001b[0;34m)\u001b[0m\u001b[0;34m[\u001b[0m\u001b[0;36m2\u001b[0m\u001b[0;34m]\u001b[0m\u001b[0;34m)\u001b[0m\u001b[0;34m-\u001b[0m\u001b[0;36m1\u001b[0m\u001b[0;34m\u001b[0m\u001b[0;34m\u001b[0m\u001b[0m\n\u001b[0m\u001b[1;32m      6\u001b[0m     \u001b[0mparenthesisErr\u001b[0m \u001b[0;34m=\u001b[0m \u001b[0mint\u001b[0m\u001b[0;34m(\u001b[0m\u001b[0mround\u001b[0m\u001b[0;34m(\u001b[0m\u001b[0merr\u001b[0m\u001b[0;34m*\u001b[0m\u001b[0;36m10\u001b[0m\u001b[0;34m**\u001b[0m\u001b[0;34m(\u001b[0m\u001b[0merrZeroes\u001b[0m\u001b[0;34m+\u001b[0m\u001b[0mdigits\u001b[0m\u001b[0;34m)\u001b[0m\u001b[0;34m,\u001b[0m\u001b[0;36m0\u001b[0m\u001b[0;34m)\u001b[0m\u001b[0;34m)\u001b[0m\u001b[0;34m\u001b[0m\u001b[0;34m\u001b[0m\u001b[0m\n\u001b[1;32m      7\u001b[0m     \u001b[0;32mreturn\u001b[0m \u001b[0;34m'{val:.0{width}f}'\u001b[0m\u001b[0;34m.\u001b[0m\u001b[0mformat\u001b[0m\u001b[0;34m(\u001b[0m\u001b[0mval\u001b[0m\u001b[0;34m=\u001b[0m\u001b[0mval\u001b[0m\u001b[0;34m,\u001b[0m\u001b[0mwidth\u001b[0m\u001b[0;34m=\u001b[0m\u001b[0merrZeroes\u001b[0m\u001b[0;34m+\u001b[0m\u001b[0mdigits\u001b[0m\u001b[0;34m)\u001b[0m\u001b[0;34m+\u001b[0m\u001b[0;34m'('\u001b[0m\u001b[0;34m+\u001b[0m\u001b[0mstr\u001b[0m\u001b[0;34m(\u001b[0m\u001b[0mparenthesisErr\u001b[0m\u001b[0;34m)\u001b[0m\u001b[0;34m+\u001b[0m\u001b[0;34m')'\u001b[0m\u001b[0;34m\u001b[0m\u001b[0;34m\u001b[0m\u001b[0m\n",
      "\u001b[0;31mValueError\u001b[0m: invalid literal for int() with base 10: ''"
     ]
    }
   ],
   "source": [
    "for index, row in wMonoX4df.iterrows():\n",
    "    print(getUncertaintyParenthesis(row['alpha'], row['alphaErr']),'&',getUncertaintyParenthesis(row['c10'],row['c10Err']),'&',round(row['chiDof'],2),'\\\\\\\\')"
   ]
  }
 ],
 "metadata": {
  "kernelspec": {
   "argv": [
    "/anaconda3/bin/python",
    "-m",
    "ipykernel_launcher",
    "-f",
    "{connection_file}"
   ],
   "display_name": "Python (myenv)",
   "env": null,
   "interrupt_mode": "signal",
   "language": "python",
   "metadata": null,
   "name": "myenv"
  },
  "name": "wMonoX.ipynb"
 },
 "nbformat": 4,
 "nbformat_minor": 2
}
