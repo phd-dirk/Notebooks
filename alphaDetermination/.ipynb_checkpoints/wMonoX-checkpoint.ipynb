{
 "cells": [
  {
   "cell_type": "code",
   "execution_count": 36,
   "metadata": {
    "autoscroll": false,
    "collapsed": false,
    "ein.hycell": false,
    "ein.tags": "worksheet-0",
    "slideshow": {
     "slide_type": "-"
    }
   },
   "outputs": [],
   "source": [
    "import sys\n",
    "del sys.modules['phd_helper']\n",
    "from phd_helper import *"
   ]
  },
  {
   "cell_type": "code",
   "execution_count": 40,
   "metadata": {
    "autoscroll": false,
    "collapsed": false,
    "ein.hycell": false,
    "ein.tags": "worksheet-0",
    "slideshow": {
     "slide_type": "-"
    }
   },
   "outputs": [
    {
     "name": "stdout",
     "output_type": "stream",
     "text": [
      "0.3160(28) & -0.523(65) & 2.4 \\\\\n",
      "0.3171(28) & -0.578(70) & 2.3 \\\\\n",
      "0.3173(29) & -0.587(76) & 2.42 \\\\\n",
      "0.3187(29) & -0.667(82) & 2.08 \\\\\n",
      "0.3189(30) & -0.679(87) & 2.19 \\\\\n",
      "0.3195(30) & -0.719(94) & 2.24 \\\\\n",
      "0.3205(30) & -0.783(99) & 2.1 \\\\\n",
      "0.3204(31) & -0.77(11) & 2.24 \\\\\n",
      "0.3206(31) & -0.79(11) & 2.39 \\\\\n",
      "0.3202(32) & -0.76(13) & 2.57 \\\\\n",
      "0.3217(33) & -0.88(14) & 2.41 \\\\\n",
      "0.3202(35) & -0.75(16) & 2.4 \\\\\n",
      "0.3202(36) & -0.75(18) & 2.67 \\\\\n",
      "0.3161(38) & -0.40(20) & 1.46 \\\\\n",
      "0.3148(39) & -0.28(22) & 1.47 \\\\\n",
      "0.3147(44) & -0.27(29) & 1.71 \\\\\n",
      "0.3214(49) & -1.01(39) & 0.41 \\\\\n",
      "0.3227(57) & -1.18(54) & 0.46 \\\\\n",
      "0.3257(67) & -1.58(74) & 0.39 \\\\\n",
      "0.325(10) & -1.54(15) & 0.58 \\\\\n",
      "0.326(21) & -1.69(40) & 1.17 \\\\\n",
      "\n"
     ]
    }
   ],
   "source": [
    "wMonoX3df = read_csv('../../FESR/configurations/2019/wMonoX3AlphaD8/fits.csv')\n",
    "wMonoX4df = read_csv('../../FESR/configurations/2019/wMonoX4AlphaD10/fits.csv')\n",
    "print(dfToLatexTable(wMonoX3df,['alpha','c8']))\n"
   ]
  },
  {
   "cell_type": "code",
   "execution_count": 42,
   "metadata": {
    "autoscroll": false,
    "collapsed": false,
    "ein.hycell": false,
    "ein.tags": "worksheet-0",
    "slideshow": {
     "slide_type": "-"
    }
   },
   "outputs": [
    {
     "name": "stdout",
     "output_type": "stream",
     "text": [
      "             alpha  alphaErr        c8     c8Err\n",
      "smin15    0.316032  0.002802 -0.522942  0.064663\n",
      "smin1525  0.317093  0.002845 -0.577760  0.070464\n",
      "smin1550  0.317284  0.002903 -0.587027  0.076165\n",
      "smin1575  0.318652  0.002926 -0.667319  0.081605\n",
      "smin1600  0.318861  0.002976 -0.679304  0.087424\n",
      "smin1625  0.319496  0.003020 -0.718501  0.093710\n",
      "smin1650  0.320505  0.003048 -0.782654  0.099167\n",
      "smin1675  0.320356  0.003102 -0.772759  0.105858\n",
      "smin1700  0.320574  0.003125 -0.788558  0.109798\n",
      "smin1750  0.320170  0.003247 -0.759419  0.126021\n",
      "smin1800  0.321722  0.003315 -0.878758  0.139252\n",
      "smin1850  0.320228  0.003464 -0.752646  0.159656\n",
      "smin1900  0.320161  0.003559 -0.746591  0.175540\n",
      "smin1950  0.316120  0.003778 -0.402395  0.197994\n",
      "smin2000  0.314819  0.003949 -0.279801  0.222560\n",
      "smin2100  0.314695  0.004379 -0.267822  0.287914\n",
      "smin2200  0.321434  0.004894 -1.010286  0.394305\n",
      "smin2300  0.322742  0.005672 -1.178441  0.544632\n",
      "smin2400  0.325709  0.006703 -1.582566  0.742002\n",
      "smin2600  0.325426  0.010396 -1.535554  1.529036\n",
      "smin2800  0.326150  0.020614 -1.685437  4.033288\n"
     ]
    }
   ],
   "source": [
    "print(wMonoX3df[['alpha', 'alphaErr', 'c8', 'c8Err']])"
   ]
  },
  {
   "cell_type": "code",
   "execution_count": 23,
   "metadata": {
    "autoscroll": false,
    "collapsed": false,
    "ein.hycell": false,
    "ein.tags": "worksheet-0",
    "slideshow": {
     "slide_type": "-"
    }
   },
   "outputs": [],
   "source": [
    "def getUncertaintyParenthesis(val, err):\n",
    "    digits = 2\n",
    "\n",
    "    eVal = '%e' % err\n",
    "    print(eVal.partition('-'))\n",
    "    errZeroes = int(eVal.partition('-')[2])-1\n",
    "    parenthesisErr = int(round(err*10**(errZeroes+digits),0))\n",
    "    return '{val:.0{width}f}'.format(val=val,width=errZeroes+digits)+'('+str(parenthesisErr)+')'"
   ]
  },
  {
   "cell_type": "code",
   "execution_count": 24,
   "metadata": {
    "autoscroll": false,
    "collapsed": false,
    "ein.hycell": false,
    "ein.tags": "worksheet-0",
    "slideshow": {
     "slide_type": "-"
    }
   },
   "outputs": [
    {
     "name": "stdout",
     "output_type": "stream",
     "text": [
      "('2.014127e+00', '', '')\n"
     ]
    },
    {
     "ename": "ValueError",
     "evalue": "invalid literal for int() with base 10: ''",
     "output_type": "error",
     "traceback": [
      "\u001b[0;31m\u001b[0m",
      "\u001b[0;31mValueError\u001b[0mTraceback (most recent call last)",
      "\u001b[0;32m<ipython-input-24-be29f6a98ebe>\u001b[0m in \u001b[0;36m<module>\u001b[0;34m()\u001b[0m\n\u001b[1;32m      2\u001b[0m \u001b[0mxErr\u001b[0m \u001b[0;34m=\u001b[0m \u001b[0;36m2.014127\u001b[0m\u001b[0;34m\u001b[0m\u001b[0;34m\u001b[0m\u001b[0m\n\u001b[1;32m      3\u001b[0m \u001b[0;34m\u001b[0m\u001b[0m\n\u001b[0;32m----> 4\u001b[0;31m \u001b[0mgetUncertaintyParenthesis\u001b[0m\u001b[0;34m(\u001b[0m\u001b[0mxVal\u001b[0m\u001b[0;34m,\u001b[0m \u001b[0mxErr\u001b[0m\u001b[0;34m)\u001b[0m\u001b[0;34m\u001b[0m\u001b[0;34m\u001b[0m\u001b[0m\n\u001b[0m",
      "\u001b[0;32m<ipython-input-23-f7f3ed1b770f>\u001b[0m in \u001b[0;36mgetUncertaintyParenthesis\u001b[0;34m(val, err)\u001b[0m\n\u001b[1;32m      4\u001b[0m     \u001b[0meVal\u001b[0m \u001b[0;34m=\u001b[0m \u001b[0;34m'%e'\u001b[0m \u001b[0;34m%\u001b[0m \u001b[0merr\u001b[0m\u001b[0;34m\u001b[0m\u001b[0;34m\u001b[0m\u001b[0m\n\u001b[1;32m      5\u001b[0m     \u001b[0mprint\u001b[0m\u001b[0;34m(\u001b[0m\u001b[0meVal\u001b[0m\u001b[0;34m.\u001b[0m\u001b[0mpartition\u001b[0m\u001b[0;34m(\u001b[0m\u001b[0;34m'-'\u001b[0m\u001b[0;34m)\u001b[0m\u001b[0;34m)\u001b[0m\u001b[0;34m\u001b[0m\u001b[0;34m\u001b[0m\u001b[0m\n\u001b[0;32m----> 6\u001b[0;31m     \u001b[0merrZeroes\u001b[0m \u001b[0;34m=\u001b[0m \u001b[0mint\u001b[0m\u001b[0;34m(\u001b[0m\u001b[0meVal\u001b[0m\u001b[0;34m.\u001b[0m\u001b[0mpartition\u001b[0m\u001b[0;34m(\u001b[0m\u001b[0;34m'-'\u001b[0m\u001b[0;34m)\u001b[0m\u001b[0;34m[\u001b[0m\u001b[0;36m2\u001b[0m\u001b[0;34m]\u001b[0m\u001b[0;34m)\u001b[0m\u001b[0;34m-\u001b[0m\u001b[0;36m1\u001b[0m\u001b[0;34m\u001b[0m\u001b[0;34m\u001b[0m\u001b[0m\n\u001b[0m\u001b[1;32m      7\u001b[0m     \u001b[0mparenthesisErr\u001b[0m \u001b[0;34m=\u001b[0m \u001b[0mint\u001b[0m\u001b[0;34m(\u001b[0m\u001b[0mround\u001b[0m\u001b[0;34m(\u001b[0m\u001b[0merr\u001b[0m\u001b[0;34m*\u001b[0m\u001b[0;36m10\u001b[0m\u001b[0;34m**\u001b[0m\u001b[0;34m(\u001b[0m\u001b[0merrZeroes\u001b[0m\u001b[0;34m+\u001b[0m\u001b[0mdigits\u001b[0m\u001b[0;34m)\u001b[0m\u001b[0;34m,\u001b[0m\u001b[0;36m0\u001b[0m\u001b[0;34m)\u001b[0m\u001b[0;34m)\u001b[0m\u001b[0;34m\u001b[0m\u001b[0;34m\u001b[0m\u001b[0m\n\u001b[1;32m      8\u001b[0m     \u001b[0;32mreturn\u001b[0m \u001b[0;34m'{val:.0{width}f}'\u001b[0m\u001b[0;34m.\u001b[0m\u001b[0mformat\u001b[0m\u001b[0;34m(\u001b[0m\u001b[0mval\u001b[0m\u001b[0;34m=\u001b[0m\u001b[0mval\u001b[0m\u001b[0;34m,\u001b[0m\u001b[0mwidth\u001b[0m\u001b[0;34m=\u001b[0m\u001b[0merrZeroes\u001b[0m\u001b[0;34m+\u001b[0m\u001b[0mdigits\u001b[0m\u001b[0;34m)\u001b[0m\u001b[0;34m+\u001b[0m\u001b[0;34m'('\u001b[0m\u001b[0;34m+\u001b[0m\u001b[0mstr\u001b[0m\u001b[0;34m(\u001b[0m\u001b[0mparenthesisErr\u001b[0m\u001b[0;34m)\u001b[0m\u001b[0;34m+\u001b[0m\u001b[0;34m')'\u001b[0m\u001b[0;34m\u001b[0m\u001b[0;34m\u001b[0m\u001b[0m\n",
      "\u001b[0;31mValueError\u001b[0m: invalid literal for int() with base 10: ''"
     ]
    }
   ],
   "source": [
    "xVal = -8.146886\n",
    "xErr = 2.014127\n",
    "\n",
    "getUncertaintyParenthesis(xVal, xErr)"
   ]
  },
  {
   "cell_type": "code",
   "execution_count": 21,
   "metadata": {
    "autoscroll": false,
    "collapsed": false,
    "ein.hycell": false,
    "ein.tags": "worksheet-0",
    "slideshow": {
     "slide_type": "-"
    }
   },
   "outputs": [
    {
     "name": "stdout",
     "output_type": "stream",
     "text": [
      "0.3275(15) & -0.874(69) & 4.23 \\\\\n",
      "0.3280(15) & -0.971(76) & 4.0 \\\\\n",
      "0.3283(15) & -1.017(83) & 4.11 \\\\\n",
      "0.3290(16) & -1.144(91) & 3.62 \\\\\n",
      "0.3292(16) & -1.188(99) & 3.76 \\\\\n",
      "0.3295(16) & -1.27(11) & 3.75 \\\\\n",
      "0.3300(16) & -1.38(11) & 3.5 \\\\\n",
      "0.3301(16) & -1.40(12) & 3.74 \\\\\n",
      "0.3303(16) & -1.44(13) & 3.95 \\\\\n",
      "0.3304(16) & -1.48(16) & 4.25 \\\\\n",
      "0.3312(16) & -1.71(17) & 3.85 \\\\\n",
      "0.3310(17) & -1.64(21) & 4.2 \\\\\n",
      "0.3312(17) & -1.72(23) & 4.61 \\\\\n",
      "0.3303(17) & -1.40(27) & 4.46 \\\\\n",
      "0.3303(18) & -1.40(31) & 5.1 \\\\\n",
      "0.3312(19) & -1.84(41) & 5.49 \\\\\n",
      "0.3342(20) & -3.49(55) & 2.51 \\\\\n",
      "0.3357(21) & -4.45(76) & 2.31 \\\\\n"
     ]
    },
    {
     "ename": "ValueError",
     "evalue": "invalid literal for int() with base 10: ''",
     "output_type": "error",
     "traceback": [
      "\u001b[0;31m\u001b[0m",
      "\u001b[0;31mValueError\u001b[0mTraceback (most recent call last)",
      "\u001b[0;32m<ipython-input-21-ec9c47cff576>\u001b[0m in \u001b[0;36m<module>\u001b[0;34m()\u001b[0m\n\u001b[1;32m      1\u001b[0m \u001b[0;32mfor\u001b[0m \u001b[0mindex\u001b[0m\u001b[0;34m,\u001b[0m \u001b[0mrow\u001b[0m \u001b[0;32min\u001b[0m \u001b[0mwMonoX4df\u001b[0m\u001b[0;34m.\u001b[0m\u001b[0miterrows\u001b[0m\u001b[0;34m(\u001b[0m\u001b[0;34m)\u001b[0m\u001b[0;34m:\u001b[0m\u001b[0;34m\u001b[0m\u001b[0;34m\u001b[0m\u001b[0m\n\u001b[0;32m----> 2\u001b[0;31m     \u001b[0mprint\u001b[0m\u001b[0;34m(\u001b[0m\u001b[0mgetUncertaintyParenthesis\u001b[0m\u001b[0;34m(\u001b[0m\u001b[0mrow\u001b[0m\u001b[0;34m[\u001b[0m\u001b[0;34m'alpha'\u001b[0m\u001b[0;34m]\u001b[0m\u001b[0;34m,\u001b[0m \u001b[0mrow\u001b[0m\u001b[0;34m[\u001b[0m\u001b[0;34m'alphaErr'\u001b[0m\u001b[0;34m]\u001b[0m\u001b[0;34m)\u001b[0m\u001b[0;34m,\u001b[0m\u001b[0;34m'&'\u001b[0m\u001b[0;34m,\u001b[0m\u001b[0mgetUncertaintyParenthesis\u001b[0m\u001b[0;34m(\u001b[0m\u001b[0mrow\u001b[0m\u001b[0;34m[\u001b[0m\u001b[0;34m'c10'\u001b[0m\u001b[0;34m]\u001b[0m\u001b[0;34m,\u001b[0m\u001b[0mrow\u001b[0m\u001b[0;34m[\u001b[0m\u001b[0;34m'c10Err'\u001b[0m\u001b[0;34m]\u001b[0m\u001b[0;34m)\u001b[0m\u001b[0;34m,\u001b[0m\u001b[0;34m'&'\u001b[0m\u001b[0;34m,\u001b[0m\u001b[0mround\u001b[0m\u001b[0;34m(\u001b[0m\u001b[0mrow\u001b[0m\u001b[0;34m[\u001b[0m\u001b[0;34m'chiDof'\u001b[0m\u001b[0;34m]\u001b[0m\u001b[0;34m,\u001b[0m\u001b[0;36m2\u001b[0m\u001b[0;34m)\u001b[0m\u001b[0;34m,\u001b[0m\u001b[0;34m'\\\\\\\\'\u001b[0m\u001b[0;34m)\u001b[0m\u001b[0;34m\u001b[0m\u001b[0;34m\u001b[0m\u001b[0m\n\u001b[0m",
      "\u001b[0;32m<ipython-input-20-e90b683a0790>\u001b[0m in \u001b[0;36mgetUncertaintyParenthesis\u001b[0;34m(val, err)\u001b[0m\n\u001b[1;32m      3\u001b[0m \u001b[0;34m\u001b[0m\u001b[0m\n\u001b[1;32m      4\u001b[0m     \u001b[0meVal\u001b[0m \u001b[0;34m=\u001b[0m \u001b[0;34m'%e'\u001b[0m \u001b[0;34m%\u001b[0m \u001b[0merr\u001b[0m\u001b[0;34m\u001b[0m\u001b[0;34m\u001b[0m\u001b[0m\n\u001b[0;32m----> 5\u001b[0;31m     \u001b[0merrZeroes\u001b[0m \u001b[0;34m=\u001b[0m \u001b[0mint\u001b[0m\u001b[0;34m(\u001b[0m\u001b[0meVal\u001b[0m\u001b[0;34m.\u001b[0m\u001b[0mpartition\u001b[0m\u001b[0;34m(\u001b[0m\u001b[0;34m'-'\u001b[0m\u001b[0;34m)\u001b[0m\u001b[0;34m[\u001b[0m\u001b[0;36m2\u001b[0m\u001b[0;34m]\u001b[0m\u001b[0;34m)\u001b[0m\u001b[0;34m-\u001b[0m\u001b[0;36m1\u001b[0m\u001b[0;34m\u001b[0m\u001b[0;34m\u001b[0m\u001b[0m\n\u001b[0m\u001b[1;32m      6\u001b[0m     \u001b[0mparenthesisErr\u001b[0m \u001b[0;34m=\u001b[0m \u001b[0mint\u001b[0m\u001b[0;34m(\u001b[0m\u001b[0mround\u001b[0m\u001b[0;34m(\u001b[0m\u001b[0merr\u001b[0m\u001b[0;34m*\u001b[0m\u001b[0;36m10\u001b[0m\u001b[0;34m**\u001b[0m\u001b[0;34m(\u001b[0m\u001b[0merrZeroes\u001b[0m\u001b[0;34m+\u001b[0m\u001b[0mdigits\u001b[0m\u001b[0;34m)\u001b[0m\u001b[0;34m,\u001b[0m\u001b[0;36m0\u001b[0m\u001b[0;34m)\u001b[0m\u001b[0;34m)\u001b[0m\u001b[0;34m\u001b[0m\u001b[0;34m\u001b[0m\u001b[0m\n\u001b[1;32m      7\u001b[0m     \u001b[0;32mreturn\u001b[0m \u001b[0;34m'{val:.0{width}f}'\u001b[0m\u001b[0;34m.\u001b[0m\u001b[0mformat\u001b[0m\u001b[0;34m(\u001b[0m\u001b[0mval\u001b[0m\u001b[0;34m=\u001b[0m\u001b[0mval\u001b[0m\u001b[0;34m,\u001b[0m\u001b[0mwidth\u001b[0m\u001b[0;34m=\u001b[0m\u001b[0merrZeroes\u001b[0m\u001b[0;34m+\u001b[0m\u001b[0mdigits\u001b[0m\u001b[0;34m)\u001b[0m\u001b[0;34m+\u001b[0m\u001b[0;34m'('\u001b[0m\u001b[0;34m+\u001b[0m\u001b[0mstr\u001b[0m\u001b[0;34m(\u001b[0m\u001b[0mparenthesisErr\u001b[0m\u001b[0;34m)\u001b[0m\u001b[0;34m+\u001b[0m\u001b[0;34m')'\u001b[0m\u001b[0;34m\u001b[0m\u001b[0;34m\u001b[0m\u001b[0m\n",
      "\u001b[0;31mValueError\u001b[0m: invalid literal for int() with base 10: ''"
     ]
    }
   ],
   "source": [
    "for index, row in wMonoX4df.iterrows():\n",
    "    print(getUncertaintyParenthesis(row['alpha'], row['alphaErr']),'&',getUncertaintyParenthesis(row['c10'],row['c10Err']),'&',round(row['chiDof'],2),'\\\\\\\\')"
   ]
  }
 ],
 "metadata": {
  "kernelspec": {
   "display_name": "Python (myenv)",
   "name": "myenv"
  },
  "name": "wMonoX.ipynb"
 },
 "nbformat": 4,
 "nbformat_minor": 2
}
