{
 "cells": [
  {
   "cell_type": "code",
   "execution_count": 1,
   "metadata": {
    "autoscroll": false,
    "collapsed": false,
    "ein.hycell": false,
    "ein.tags": "worksheet-0",
    "slideshow": {
     "slide_type": "-"
    }
   },
   "outputs": [],
   "source": [
    "exec(open('./initNotebook.py').read())"
   ]
  },
  {
   "cell_type": "code",
   "execution_count": 22,
   "metadata": {
    "autoscroll": false,
    "collapsed": false,
    "ein.hycell": false,
    "ein.tags": "worksheet-0",
    "slideshow": {
     "slide_type": "-"
    }
   },
   "outputs": [
    {
     "data": {
      "text/html": [
       "<div>\n<style scoped>\n    .dataframe tbody tr th:only-of-type {\n        vertical-align: middle;\n    }\n\n    .dataframe tbody tr th {\n        vertical-align: top;\n    }\n\n    .dataframe thead th {\n        text-align: right;\n    }\n</style>\n<table border=\"1\" class=\"dataframe\">\n  <thead>\n    <tr style=\"text-align: right;\">\n      <th></th>\n      <th>alpha</th>\n      <th>alphaErr</th>\n      <th>c10</th>\n      <th>c10Err</th>\n      <th>chiDof</th>\n    </tr>\n  </thead>\n  <tbody>\n    <tr>\n      <th>smin15</th>\n      <td>0.327479</td>\n      <td>0.001525</td>\n      <td>-0.874148</td>\n      <td>0.068522</td>\n      <td>4.231223</td>\n    </tr>\n    <tr>\n      <th>smin1525</th>\n      <td>0.328048</td>\n      <td>0.001533</td>\n      <td>-0.971182</td>\n      <td>0.076024</td>\n      <td>4.001722</td>\n    </tr>\n    <tr>\n      <th>smin1550</th>\n      <td>0.328346</td>\n      <td>0.001549</td>\n      <td>-1.017402</td>\n      <td>0.083315</td>\n      <td>4.113301</td>\n    </tr>\n    <tr>\n      <th>smin1575</th>\n      <td>0.328957</td>\n      <td>0.001556</td>\n      <td>-1.143502</td>\n      <td>0.090539</td>\n      <td>3.624904</td>\n    </tr>\n    <tr>\n      <th>smin1600</th>\n      <td>0.329175</td>\n      <td>0.001567</td>\n      <td>-1.187814</td>\n      <td>0.098692</td>\n      <td>3.762717</td>\n    </tr>\n    <tr>\n      <th>smin1625</th>\n      <td>0.329550</td>\n      <td>0.001579</td>\n      <td>-1.269453</td>\n      <td>0.107154</td>\n      <td>3.753313</td>\n    </tr>\n    <tr>\n      <th>smin1650</th>\n      <td>0.330024</td>\n      <td>0.001586</td>\n      <td>-1.376189</td>\n      <td>0.114156</td>\n      <td>3.503354</td>\n    </tr>\n    <tr>\n      <th>smin1675</th>\n      <td>0.330111</td>\n      <td>0.001598</td>\n      <td>-1.397606</td>\n      <td>0.124279</td>\n      <td>3.739993</td>\n    </tr>\n    <tr>\n      <th>smin1700</th>\n      <td>0.330256</td>\n      <td>0.001603</td>\n      <td>-1.437818</td>\n      <td>0.130298</td>\n      <td>3.946018</td>\n    </tr>\n    <tr>\n      <th>smin1750</th>\n      <td>0.330422</td>\n      <td>0.001630</td>\n      <td>-1.484495</td>\n      <td>0.155196</td>\n      <td>4.249290</td>\n    </tr>\n    <tr>\n      <th>smin1800</th>\n      <td>0.331158</td>\n      <td>0.001647</td>\n      <td>-1.711526</td>\n      <td>0.173645</td>\n      <td>3.848864</td>\n    </tr>\n    <tr>\n      <th>smin1850</th>\n      <td>0.330969</td>\n      <td>0.001678</td>\n      <td>-1.644528</td>\n      <td>0.206563</td>\n      <td>4.198070</td>\n    </tr>\n    <tr>\n      <th>smin1900</th>\n      <td>0.331169</td>\n      <td>0.001700</td>\n      <td>-1.721884</td>\n      <td>0.232364</td>\n      <td>4.605582</td>\n    </tr>\n    <tr>\n      <th>smin1950</th>\n      <td>0.330296</td>\n      <td>0.001741</td>\n      <td>-1.395864</td>\n      <td>0.268790</td>\n      <td>4.462580</td>\n    </tr>\n    <tr>\n      <th>smin2000</th>\n      <td>0.330306</td>\n      <td>0.001775</td>\n      <td>-1.400306</td>\n      <td>0.308669</td>\n      <td>5.099966</td>\n    </tr>\n    <tr>\n      <th>smin2100</th>\n      <td>0.331246</td>\n      <td>0.001859</td>\n      <td>-1.842091</td>\n      <td>0.407069</td>\n      <td>5.485028</td>\n    </tr>\n    <tr>\n      <th>smin2200</th>\n      <td>0.334233</td>\n      <td>0.001962</td>\n      <td>-3.489308</td>\n      <td>0.548939</td>\n      <td>2.508547</td>\n    </tr>\n    <tr>\n      <th>smin2300</th>\n      <td>0.335690</td>\n      <td>0.002114</td>\n      <td>-4.446354</td>\n      <td>0.762668</td>\n      <td>2.312642</td>\n    </tr>\n    <tr>\n      <th>smin2400</th>\n      <td>0.337600</td>\n      <td>0.002296</td>\n      <td>-5.807136</td>\n      <td>1.005834</td>\n      <td>1.631585</td>\n    </tr>\n    <tr>\n      <th>smin2600</th>\n      <td>0.340280</td>\n      <td>0.003028</td>\n      <td>-8.146886</td>\n      <td>2.014127</td>\n      <td>1.543120</td>\n    </tr>\n    <tr>\n      <th>smin2800</th>\n      <td>0.348297</td>\n      <td>0.005594</td>\n      <td>-16.337720</td>\n      <td>5.301190</td>\n      <td>0.247880</td>\n    </tr>\n  </tbody>\n</table>\n</div>"
      ],
      "text/plain": [
       "             alpha  alphaErr        c10    c10Err    chiDof\nsmin15    0.327479  0.001525  -0.874148  0.068522  4.231223\nsmin1525  0.328048  0.001533  -0.971182  0.076024  4.001722\nsmin1550  0.328346  0.001549  -1.017402  0.083315  4.113301\nsmin1575  0.328957  0.001556  -1.143502  0.090539  3.624904\nsmin1600  0.329175  0.001567  -1.187814  0.098692  3.762717\nsmin1625  0.329550  0.001579  -1.269453  0.107154  3.753313\nsmin1650  0.330024  0.001586  -1.376189  0.114156  3.503354\nsmin1675  0.330111  0.001598  -1.397606  0.124279  3.739993\nsmin1700  0.330256  0.001603  -1.437818  0.130298  3.946018\nsmin1750  0.330422  0.001630  -1.484495  0.155196  4.249290\nsmin1800  0.331158  0.001647  -1.711526  0.173645  3.848864\nsmin1850  0.330969  0.001678  -1.644528  0.206563  4.198070\nsmin1900  0.331169  0.001700  -1.721884  0.232364  4.605582\nsmin1950  0.330296  0.001741  -1.395864  0.268790  4.462580\nsmin2000  0.330306  0.001775  -1.400306  0.308669  5.099966\nsmin2100  0.331246  0.001859  -1.842091  0.407069  5.485028\nsmin2200  0.334233  0.001962  -3.489308  0.548939  2.508547\nsmin2300  0.335690  0.002114  -4.446354  0.762668  2.312642\nsmin2400  0.337600  0.002296  -5.807136  1.005834  1.631585\nsmin2600  0.340280  0.003028  -8.146886  2.014127  1.543120\nsmin2800  0.348297  0.005594 -16.337720  5.301190  0.247880"
      ]
     },
     "execution_count": 22,
     "metadata": {},
     "output_type": "execute_result"
    }
   ],
   "source": [
    "wMonoX3df = read_csv('../../FESR/configurations/2019/wMonoX3AlphaD8/fits.csv')\n",
    "wMonoX4df = read_csv('../../FESR/configurations/2019/wMonoX4AlphaD10/fits.csv')\n",
    "wMonoX4df[['alpha', 'alphaErr', 'c10', 'c10Err', 'chiDof']]"
   ]
  },
  {
   "cell_type": "code",
   "execution_count": 23,
   "metadata": {
    "autoscroll": false,
    "collapsed": false,
    "ein.hycell": false,
    "ein.tags": "worksheet-0",
    "slideshow": {
     "slide_type": "-"
    }
   },
   "outputs": [],
   "source": [
    "def getUncertaintyParenthesis(val, err):\n",
    "    digits = 2\n",
    "\n",
    "    eVal = '%e' % err\n",
    "    print(eVal.partition('-'))\n",
    "    errZeroes = int(eVal.partition('-')[2])-1\n",
    "    parenthesisErr = int(round(err*10**(errZeroes+digits),0))\n",
    "    return '{val:.0{width}f}'.format(val=val,width=errZeroes+digits)+'('+str(parenthesisErr)+')'"
   ]
  },
  {
   "cell_type": "code",
   "execution_count": 24,
   "metadata": {
    "autoscroll": false,
    "collapsed": false,
    "ein.hycell": false,
    "ein.tags": "worksheet-0",
    "slideshow": {
     "slide_type": "-"
    }
   },
   "outputs": [
    {
     "name": "stdout",
     "output_type": "stream",
     "text": [
      "('2.014127e+00', '', '')\n"
     ]
    },
    {
     "ename": "ValueError",
     "evalue": "invalid literal for int() with base 10: ''",
     "output_type": "error",
     "traceback": [
      "\u001b[0;31m\u001b[0m",
      "\u001b[0;31mValueError\u001b[0mTraceback (most recent call last)",
      "\u001b[0;32m<ipython-input-24-be29f6a98ebe>\u001b[0m in \u001b[0;36m<module>\u001b[0;34m()\u001b[0m\n\u001b[1;32m      2\u001b[0m \u001b[0mxErr\u001b[0m \u001b[0;34m=\u001b[0m \u001b[0;36m2.014127\u001b[0m\u001b[0;34m\u001b[0m\u001b[0;34m\u001b[0m\u001b[0m\n\u001b[1;32m      3\u001b[0m \u001b[0;34m\u001b[0m\u001b[0m\n\u001b[0;32m----> 4\u001b[0;31m \u001b[0mgetUncertaintyParenthesis\u001b[0m\u001b[0;34m(\u001b[0m\u001b[0mxVal\u001b[0m\u001b[0;34m,\u001b[0m \u001b[0mxErr\u001b[0m\u001b[0;34m)\u001b[0m\u001b[0;34m\u001b[0m\u001b[0;34m\u001b[0m\u001b[0m\n\u001b[0m",
      "\u001b[0;32m<ipython-input-23-f7f3ed1b770f>\u001b[0m in \u001b[0;36mgetUncertaintyParenthesis\u001b[0;34m(val, err)\u001b[0m\n\u001b[1;32m      4\u001b[0m     \u001b[0meVal\u001b[0m \u001b[0;34m=\u001b[0m \u001b[0;34m'%e'\u001b[0m \u001b[0;34m%\u001b[0m \u001b[0merr\u001b[0m\u001b[0;34m\u001b[0m\u001b[0;34m\u001b[0m\u001b[0m\n\u001b[1;32m      5\u001b[0m     \u001b[0mprint\u001b[0m\u001b[0;34m(\u001b[0m\u001b[0meVal\u001b[0m\u001b[0;34m.\u001b[0m\u001b[0mpartition\u001b[0m\u001b[0;34m(\u001b[0m\u001b[0;34m'-'\u001b[0m\u001b[0;34m)\u001b[0m\u001b[0;34m)\u001b[0m\u001b[0;34m\u001b[0m\u001b[0;34m\u001b[0m\u001b[0m\n\u001b[0;32m----> 6\u001b[0;31m     \u001b[0merrZeroes\u001b[0m \u001b[0;34m=\u001b[0m \u001b[0mint\u001b[0m\u001b[0;34m(\u001b[0m\u001b[0meVal\u001b[0m\u001b[0;34m.\u001b[0m\u001b[0mpartition\u001b[0m\u001b[0;34m(\u001b[0m\u001b[0;34m'-'\u001b[0m\u001b[0;34m)\u001b[0m\u001b[0;34m[\u001b[0m\u001b[0;36m2\u001b[0m\u001b[0;34m]\u001b[0m\u001b[0;34m)\u001b[0m\u001b[0;34m-\u001b[0m\u001b[0;36m1\u001b[0m\u001b[0;34m\u001b[0m\u001b[0;34m\u001b[0m\u001b[0m\n\u001b[0m\u001b[1;32m      7\u001b[0m     \u001b[0mparenthesisErr\u001b[0m \u001b[0;34m=\u001b[0m \u001b[0mint\u001b[0m\u001b[0;34m(\u001b[0m\u001b[0mround\u001b[0m\u001b[0;34m(\u001b[0m\u001b[0merr\u001b[0m\u001b[0;34m*\u001b[0m\u001b[0;36m10\u001b[0m\u001b[0;34m**\u001b[0m\u001b[0;34m(\u001b[0m\u001b[0merrZeroes\u001b[0m\u001b[0;34m+\u001b[0m\u001b[0mdigits\u001b[0m\u001b[0;34m)\u001b[0m\u001b[0;34m,\u001b[0m\u001b[0;36m0\u001b[0m\u001b[0;34m)\u001b[0m\u001b[0;34m)\u001b[0m\u001b[0;34m\u001b[0m\u001b[0;34m\u001b[0m\u001b[0m\n\u001b[1;32m      8\u001b[0m     \u001b[0;32mreturn\u001b[0m \u001b[0;34m'{val:.0{width}f}'\u001b[0m\u001b[0;34m.\u001b[0m\u001b[0mformat\u001b[0m\u001b[0;34m(\u001b[0m\u001b[0mval\u001b[0m\u001b[0;34m=\u001b[0m\u001b[0mval\u001b[0m\u001b[0;34m,\u001b[0m\u001b[0mwidth\u001b[0m\u001b[0;34m=\u001b[0m\u001b[0merrZeroes\u001b[0m\u001b[0;34m+\u001b[0m\u001b[0mdigits\u001b[0m\u001b[0;34m)\u001b[0m\u001b[0;34m+\u001b[0m\u001b[0;34m'('\u001b[0m\u001b[0;34m+\u001b[0m\u001b[0mstr\u001b[0m\u001b[0;34m(\u001b[0m\u001b[0mparenthesisErr\u001b[0m\u001b[0;34m)\u001b[0m\u001b[0;34m+\u001b[0m\u001b[0;34m')'\u001b[0m\u001b[0;34m\u001b[0m\u001b[0;34m\u001b[0m\u001b[0m\n",
      "\u001b[0;31mValueError\u001b[0m: invalid literal for int() with base 10: ''"
     ]
    }
   ],
   "source": [
    "xVal = -8.146886\n",
    "xErr = 2.014127\n",
    "\n",
    "getUncertaintyParenthesis(xVal, xErr)"
   ]
  },
  {
   "cell_type": "code",
   "execution_count": 21,
   "metadata": {
    "autoscroll": false,
    "collapsed": false,
    "ein.hycell": false,
    "ein.tags": "worksheet-0",
    "slideshow": {
     "slide_type": "-"
    }
   },
   "outputs": [
    {
     "name": "stdout",
     "output_type": "stream",
     "text": [
      "0.3275(15) & -0.874(69) & 4.23 \\\\\n",
      "0.3280(15) & -0.971(76) & 4.0 \\\\\n",
      "0.3283(15) & -1.017(83) & 4.11 \\\\\n",
      "0.3290(16) & -1.144(91) & 3.62 \\\\\n",
      "0.3292(16) & -1.188(99) & 3.76 \\\\\n",
      "0.3295(16) & -1.27(11) & 3.75 \\\\\n",
      "0.3300(16) & -1.38(11) & 3.5 \\\\\n",
      "0.3301(16) & -1.40(12) & 3.74 \\\\\n",
      "0.3303(16) & -1.44(13) & 3.95 \\\\\n",
      "0.3304(16) & -1.48(16) & 4.25 \\\\\n",
      "0.3312(16) & -1.71(17) & 3.85 \\\\\n",
      "0.3310(17) & -1.64(21) & 4.2 \\\\\n",
      "0.3312(17) & -1.72(23) & 4.61 \\\\\n",
      "0.3303(17) & -1.40(27) & 4.46 \\\\\n",
      "0.3303(18) & -1.40(31) & 5.1 \\\\\n",
      "0.3312(19) & -1.84(41) & 5.49 \\\\\n",
      "0.3342(20) & -3.49(55) & 2.51 \\\\\n",
      "0.3357(21) & -4.45(76) & 2.31 \\\\\n"
     ]
    },
    {
     "ename": "ValueError",
     "evalue": "invalid literal for int() with base 10: ''",
     "output_type": "error",
     "traceback": [
      "\u001b[0;31m\u001b[0m",
      "\u001b[0;31mValueError\u001b[0mTraceback (most recent call last)",
      "\u001b[0;32m<ipython-input-21-ec9c47cff576>\u001b[0m in \u001b[0;36m<module>\u001b[0;34m()\u001b[0m\n\u001b[1;32m      1\u001b[0m \u001b[0;32mfor\u001b[0m \u001b[0mindex\u001b[0m\u001b[0;34m,\u001b[0m \u001b[0mrow\u001b[0m \u001b[0;32min\u001b[0m \u001b[0mwMonoX4df\u001b[0m\u001b[0;34m.\u001b[0m\u001b[0miterrows\u001b[0m\u001b[0;34m(\u001b[0m\u001b[0;34m)\u001b[0m\u001b[0;34m:\u001b[0m\u001b[0;34m\u001b[0m\u001b[0;34m\u001b[0m\u001b[0m\n\u001b[0;32m----> 2\u001b[0;31m     \u001b[0mprint\u001b[0m\u001b[0;34m(\u001b[0m\u001b[0mgetUncertaintyParenthesis\u001b[0m\u001b[0;34m(\u001b[0m\u001b[0mrow\u001b[0m\u001b[0;34m[\u001b[0m\u001b[0;34m'alpha'\u001b[0m\u001b[0;34m]\u001b[0m\u001b[0;34m,\u001b[0m \u001b[0mrow\u001b[0m\u001b[0;34m[\u001b[0m\u001b[0;34m'alphaErr'\u001b[0m\u001b[0;34m]\u001b[0m\u001b[0;34m)\u001b[0m\u001b[0;34m,\u001b[0m\u001b[0;34m'&'\u001b[0m\u001b[0;34m,\u001b[0m\u001b[0mgetUncertaintyParenthesis\u001b[0m\u001b[0;34m(\u001b[0m\u001b[0mrow\u001b[0m\u001b[0;34m[\u001b[0m\u001b[0;34m'c10'\u001b[0m\u001b[0;34m]\u001b[0m\u001b[0;34m,\u001b[0m\u001b[0mrow\u001b[0m\u001b[0;34m[\u001b[0m\u001b[0;34m'c10Err'\u001b[0m\u001b[0;34m]\u001b[0m\u001b[0;34m)\u001b[0m\u001b[0;34m,\u001b[0m\u001b[0;34m'&'\u001b[0m\u001b[0;34m,\u001b[0m\u001b[0mround\u001b[0m\u001b[0;34m(\u001b[0m\u001b[0mrow\u001b[0m\u001b[0;34m[\u001b[0m\u001b[0;34m'chiDof'\u001b[0m\u001b[0;34m]\u001b[0m\u001b[0;34m,\u001b[0m\u001b[0;36m2\u001b[0m\u001b[0;34m)\u001b[0m\u001b[0;34m,\u001b[0m\u001b[0;34m'\\\\\\\\'\u001b[0m\u001b[0;34m)\u001b[0m\u001b[0;34m\u001b[0m\u001b[0;34m\u001b[0m\u001b[0m\n\u001b[0m",
      "\u001b[0;32m<ipython-input-20-e90b683a0790>\u001b[0m in \u001b[0;36mgetUncertaintyParenthesis\u001b[0;34m(val, err)\u001b[0m\n\u001b[1;32m      3\u001b[0m \u001b[0;34m\u001b[0m\u001b[0m\n\u001b[1;32m      4\u001b[0m     \u001b[0meVal\u001b[0m \u001b[0;34m=\u001b[0m \u001b[0;34m'%e'\u001b[0m \u001b[0;34m%\u001b[0m \u001b[0merr\u001b[0m\u001b[0;34m\u001b[0m\u001b[0;34m\u001b[0m\u001b[0m\n\u001b[0;32m----> 5\u001b[0;31m     \u001b[0merrZeroes\u001b[0m \u001b[0;34m=\u001b[0m \u001b[0mint\u001b[0m\u001b[0;34m(\u001b[0m\u001b[0meVal\u001b[0m\u001b[0;34m.\u001b[0m\u001b[0mpartition\u001b[0m\u001b[0;34m(\u001b[0m\u001b[0;34m'-'\u001b[0m\u001b[0;34m)\u001b[0m\u001b[0;34m[\u001b[0m\u001b[0;36m2\u001b[0m\u001b[0;34m]\u001b[0m\u001b[0;34m)\u001b[0m\u001b[0;34m-\u001b[0m\u001b[0;36m1\u001b[0m\u001b[0;34m\u001b[0m\u001b[0;34m\u001b[0m\u001b[0m\n\u001b[0m\u001b[1;32m      6\u001b[0m     \u001b[0mparenthesisErr\u001b[0m \u001b[0;34m=\u001b[0m \u001b[0mint\u001b[0m\u001b[0;34m(\u001b[0m\u001b[0mround\u001b[0m\u001b[0;34m(\u001b[0m\u001b[0merr\u001b[0m\u001b[0;34m*\u001b[0m\u001b[0;36m10\u001b[0m\u001b[0;34m**\u001b[0m\u001b[0;34m(\u001b[0m\u001b[0merrZeroes\u001b[0m\u001b[0;34m+\u001b[0m\u001b[0mdigits\u001b[0m\u001b[0;34m)\u001b[0m\u001b[0;34m,\u001b[0m\u001b[0;36m0\u001b[0m\u001b[0;34m)\u001b[0m\u001b[0;34m)\u001b[0m\u001b[0;34m\u001b[0m\u001b[0;34m\u001b[0m\u001b[0m\n\u001b[1;32m      7\u001b[0m     \u001b[0;32mreturn\u001b[0m \u001b[0;34m'{val:.0{width}f}'\u001b[0m\u001b[0;34m.\u001b[0m\u001b[0mformat\u001b[0m\u001b[0;34m(\u001b[0m\u001b[0mval\u001b[0m\u001b[0;34m=\u001b[0m\u001b[0mval\u001b[0m\u001b[0;34m,\u001b[0m\u001b[0mwidth\u001b[0m\u001b[0;34m=\u001b[0m\u001b[0merrZeroes\u001b[0m\u001b[0;34m+\u001b[0m\u001b[0mdigits\u001b[0m\u001b[0;34m)\u001b[0m\u001b[0;34m+\u001b[0m\u001b[0;34m'('\u001b[0m\u001b[0;34m+\u001b[0m\u001b[0mstr\u001b[0m\u001b[0;34m(\u001b[0m\u001b[0mparenthesisErr\u001b[0m\u001b[0;34m)\u001b[0m\u001b[0;34m+\u001b[0m\u001b[0;34m')'\u001b[0m\u001b[0;34m\u001b[0m\u001b[0;34m\u001b[0m\u001b[0m\n",
      "\u001b[0;31mValueError\u001b[0m: invalid literal for int() with base 10: ''"
     ]
    }
   ],
   "source": [
    "for index, row in wMonoX4df.iterrows():\n",
    "    print(getUncertaintyParenthesis(row['alpha'], row['alphaErr']),'&',getUncertaintyParenthesis(row['c10'],row['c10Err']),'&',round(row['chiDof'],2),'\\\\\\\\')"
   ]
  }
 ],
 "metadata": {
  "kernelspec": {
   "display_name": "Python (myenv)",
   "name": "myenv"
  },
  "name": "wMonoX3.ipynb"
 },
 "nbformat": 4,
 "nbformat_minor": 2
}
