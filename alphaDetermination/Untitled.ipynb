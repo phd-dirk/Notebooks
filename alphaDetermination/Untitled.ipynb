{
 "cells": [
  {
   "cell_type": "code",
   "execution_count": 23,
   "metadata": {
    "autoscroll": false,
    "collapsed": false,
    "ein.hycell": false,
    "ein.tags": "worksheet-0",
    "slideshow": {
     "slide_type": "-"
    }
   },
   "outputs": [],
   "source": [
    "import numpy as np\n",
    "import pandas as pd\n",
    "\n",
    "wCubeD6D8 = np.genfromtxt(\n",
    "    '../csv/wCubeD6D8.csv', delimiter=',', skip_header=1, dtype=None\n",
    ")\n",
    "wCubeD6D8Alpha = np.genfromtxt(\n",
    "    '../csv/wCubeD6D8Alpha.csv', delimiter=',', skip_header=1, dtype=None\n",
    ")\n",
    "wCubeD6D8D10 = np.genfromtxt(\n",
    "    '../csv/wCubeD6D8D10.csv', delimiter=',', skip_header=1, dtype=None\n",
    ")\n",
    "wCubeD6D8D10D12 = np.genfromtxt(\n",
    "    '../csv/wCubeD6D8D10D12.csv', delimiter=',', skip_header=1, dtype=None\n",
    ")\n",
    "wKinematicD6D8 = np.genfromtxt(\n",
    "    '../csv/wKinematicD6D8.csv', delimiter=',', skip_header=1, dtype=None\n",
    ")\n",
    "wKinematicD6D8Alpha = np.genfromtxt(\n",
    "    '../csv/wKinematicD6D8Alpha.csv', delimiter=',', skip_header=1, dtype=None\n",
    ")"
   ]
  },
  {
   "cell_type": "code",
   "execution_count": 24,
   "metadata": {
    "autoscroll": false,
    "collapsed": false,
    "ein.hycell": false,
    "ein.tags": "worksheet-0",
    "slideshow": {
     "slide_type": "-"
    }
   },
   "outputs": [],
   "source": [
    "import matplotlib.pyplot as plt\n",
    "\n",
    "plt.plot"
   ]
  }
 ],
 "metadata": {
  "kernelspec": {
   "display_name": "Python 3",
   "name": "python3"
  },
  "name": "Untitled.ipynb"
 },
 "nbformat": 4,
 "nbformat_minor": 2
}
