{
 "cells": [
  {
   "cell_type": "code",
   "execution_count": 2,
   "metadata": {
    "autoscroll": false,
    "collapsed": false,
    "ein.hycell": false,
    "ein.tags": "worksheet-0",
    "slideshow": {
     "slide_type": "-"
    }
   },
   "outputs": [],
   "source": [
    "from phd_helper import *"
   ]
  },
  {
   "cell_type": "code",
   "execution_count": 3,
   "metadata": {
    "autoscroll": false,
    "collapsed": false,
    "ein.hycell": false,
    "ein.tags": "worksheet-0",
    "slideshow": {
     "slide_type": "-"
    }
   },
   "outputs": [],
   "source": [
    "wOpt20AlD4D6 = read_csv('../../FESR/configurations/2019/wOpt20AlD4D6/fits.csv')\n",
    "wOpt30AlD4D6D8 = read_csv('../../FESR/configurations/2019/wOpt30AlD4D6D8/fits.csv')"
   ]
  },
  {
   "cell_type": "code",
   "execution_count": 6,
   "metadata": {
    "autoscroll": false,
    "collapsed": false,
    "ein.hycell": false,
    "ein.tags": "worksheet-0",
    "slideshow": {
     "slide_type": "-"
    }
   },
   "outputs": [
    {
     "name": "stdout",
     "output_type": "stream",
     "text": [
      "0.3276(13) & -0.0077(10) & 0.330(35) & 2.62 \\\\\n",
      "0.3278(14) & -0.0078(10) & 0.330(38) & 2.75 \\\\\n",
      "0.3299(16) & -0.0092(12) & 0.333(37) & 2.31 \\\\\n",
      "0.3308(25) & -0.0098(13) & 0.334(47) & 2.32 \\\\\n",
      "0.3317(28) & -0.0105(14) & 0.335(54) & 2.38 \\\\\n",
      "0.3336(21) & -0.0118(14) & 0.340(46) & 2.09 \\\\\n",
      "0.3345(34) & -0.0124(17) & 0.342(62) & 2.15 \\\\\n",
      "0.3349(25) & -0.0127(15) & 0.342(51) & 2.28 \\\\\n",
      "0.3348(33) & -0.0126(18) & 0.342(58) & 2.47 \\\\\n",
      "0.3372(43) & -0.0145(23) & 0.341(71) & 2.34 \\\\\n",
      "0.3378(31) & -0.0149(20) & 0.339(58) & 2.54 \\\\\n",
      "0.3365(38) & -0.0138(25) & 0.346(60) & 2.72 \\\\\n",
      "0.3355(40) & -0.0128(28) & 0.354(59) & 2.97 \\\\\n",
      "0.3296(47) & -0.0073(34) & 0.418(58) & 1.57 \\\\\n",
      "0.3299(50) & -0.0076(39) & 0.414(64) & 1.83 \\\\\n",
      "0.3331(54) & -0.0108(45) & 0.361(76) & 1.9 \\\\\n",
      "0.3401(57) & -0.0185(52) & 0.220(88) & 0.73 \\\\\n",
      "0.3383(68) & -0.0165(67) & 0.26(12) & 0.89 \\\\\n",
      "0.3450(93) & -0.0243(99) & 0.10(17) & 0.71 \\\\\n",
      "0.337(16) & -0.014(18) & 0.36(45) & 0.98 \\\\\n",
      "\n"
     ]
    }
   ],
   "source": [
    "print(dfToLatexTable(wOpt20AlD4D6, ['alpha', 'aGGInv', 'c6']))\n",
    "# print(dfToLatexTable(wOpt30AlD4D6D8, ['alpha', 'aGGInv', 'c6', 'c8']))\n"
   ]
  },
  {
   "cell_type": "code",
   "execution_count": 5,
   "metadata": {
    "autoscroll": false,
    "collapsed": false,
    "ein.hycell": false,
    "ein.tags": "worksheet-0",
    "slideshow": {
     "slide_type": "-"
    }
   },
   "outputs": [],
   "source": []
  },
  {
   "cell_type": "code",
   "execution_count": null,
   "metadata": {
    "autoscroll": false,
    "collapsed": false,
    "ein.hycell": false,
    "ein.tags": "worksheet-0",
    "slideshow": {
     "slide_type": "-"
    }
   },
   "outputs": [],
   "source": []
  }
 ],
 "metadata": {
  "kernelspec": {
   "display_name": "Python (myenv)",
   "name": "myenv"
  },
  "name": "optimalWeights.ipynb"
 },
 "nbformat": 4,
 "nbformat_minor": 2
}
